{
 "cells": [
  {
   "cell_type": "code",
   "execution_count": 15,
   "id": "b04fd1a6",
   "metadata": {},
   "outputs": [],
   "source": [
    "from tensorflow.keras.applications.vgg19 import VGG19\n",
    "from tensorflow.keras.applications.vgg16 import VGG16\n",
    "from tensorflow.keras.preprocessing import image\n",
    "from tensorflow.keras.applications.vgg19 import preprocess_input\n",
    "from tensorflow.keras.models import Model\n",
    "import numpy as np\n",
    "import matplotlib.pyplot as plt\n",
    "from PIL import Image\n",
    "from PIL.Image import Image\n",
    "import PIL.Image as pil\n",
    "import pickle"
   ]
  },
  {
   "cell_type": "markdown",
   "id": "cbd01b23",
   "metadata": {},
   "source": [
    "Extracting features of query image:"
   ]
  },
  {
   "cell_type": "code",
   "execution_count": 16,
   "id": "4351f24f",
   "metadata": {},
   "outputs": [],
   "source": [
    "def unpickle(file):\n",
    "    with open(file, 'rb') as fo:\n",
    "        dict = pickle.load(fo, encoding='bytes')\n",
    "    return dict"
   ]
  },
  {
   "cell_type": "code",
   "execution_count": 17,
   "id": "86da8cd7",
   "metadata": {},
   "outputs": [],
   "source": [
    "upImgs1 = unpickle(\"E:\\\\VIDND\\Projects\\\\Small Image Search Engine (SISE)\\\\cifar-10\\\\cifar-10-batches-py\\\\data_batch_1\")\n",
    "dataBatch1 = upImgs1[b'data']\n",
    "\n",
    "upImgs2 = unpickle(\"E:\\\\VIDND\\Projects\\\\Small Image Search Engine (SISE)\\\\cifar-10\\\\cifar-10-batches-py\\\\data_batch_2\")\n",
    "dataBatch2 = upImgs2[b'data']\n",
    "\n",
    "upImgs3 = unpickle(\"E:\\\\VIDND\\Projects\\\\Small Image Search Engine (SISE)\\\\cifar-10\\\\cifar-10-batches-py\\\\data_batch_3\")\n",
    "dataBatch3 = upImgs3[b'data']\n",
    "\n",
    "upImgs4 = unpickle(\"E:\\\\VIDND\\Projects\\\\Small Image Search Engine (SISE)\\\\cifar-10\\\\cifar-10-batches-py\\\\data_batch_1\")\n",
    "dataBatch4 = upImgs4[b'data']\n",
    "\n",
    "upImgs5 = unpickle(\"E:\\\\VIDND\\Projects\\\\Small Image Search Engine (SISE)\\\\cifar-10\\\\cifar-10-batches-py\\\\data_batch_1\")\n",
    "dataBatch5 = upImgs5[b'data']\n",
    "\n",
    "meta_data = unpickle(\"E:\\\\VIDND\\\\Projects\\\\Small Image Search Engine (SISE)\\\\cifar-10\\\\cifar-10-batches-py\\\\batches.meta\")\n",
    "\n",
    "test_batchUpImgs = unpickle(\"E:\\\\VIDND\\Projects\\\\Small Image Search Engine (SISE)\\\\cifar-10\\\\cifar-10-batches-py\\\\test_batch\")\n",
    "test_batch = test_batchUpImgs[b'data']"
   ]
  },
  {
   "cell_type": "code",
   "execution_count": 18,
   "id": "195b1b2e",
   "metadata": {},
   "outputs": [
    {
     "name": "stdout",
     "output_type": "stream",
     "text": [
      "[[ 59  43  50 ... 140  84  72]\n",
      " [154 126 105 ... 139 142 144]\n",
      " [255 253 253 ...  83  83  84]\n",
      " ...\n",
      " [ 71  60  74 ...  68  69  68]\n",
      " [250 254 211 ... 215 255 254]\n",
      " [ 62  61  60 ... 130 130 131]] (50000, 3072)\n",
      "<class 'numpy.ndarray'>\n"
     ]
    }
   ],
   "source": [
    "datasetImgs = np.append(dataBatch1, dataBatch2, axis=0)\n",
    "datasetImgs = np.append(datasetImgs, dataBatch3, axis=0)\n",
    "datasetImgs = np.append(datasetImgs, dataBatch4, axis=0)\n",
    "datasetImgs = np.append(datasetImgs, dataBatch5, axis=0)\n",
    "print(datasetImgs, datasetImgs.shape)\n",
    "print(type(datasetImgs))"
   ]
  },
  {
   "cell_type": "code",
   "execution_count": 19,
   "id": "d929b681",
   "metadata": {},
   "outputs": [
    {
     "name": "stdout",
     "output_type": "stream",
     "text": [
      "[ 59  43  50 ... 140  84  72] (3072,)\n"
     ]
    }
   ],
   "source": [
    "print(datasetImgs[0, ], datasetImgs[0, ].shape) # first image in batch1 of dataset"
   ]
  },
  {
   "cell_type": "code",
   "execution_count": 20,
   "id": "fb16a9b1",
   "metadata": {},
   "outputs": [
    {
     "name": "stdout",
     "output_type": "stream",
     "text": [
      "[[ 59  43  50 ... 140  84  72]\n",
      " [154 126 105 ... 139 142 144]\n",
      " [255 253 253 ...  83  83  84]\n",
      " ...\n",
      " [ 71  60  74 ...  68  69  68]\n",
      " [250 254 211 ... 215 255 254]\n",
      " [ 62  61  60 ... 130 130 131]] (10000, 3072)\n",
      "[ 59  43  50 ... 140  84  72] (3072,)\n"
     ]
    }
   ],
   "source": [
    "print(dataBatch1, dataBatch1.shape)\n",
    "print(dataBatch1[0, ], dataBatch1[0, ].shape)"
   ]
  },
  {
   "cell_type": "code",
   "execution_count": 21,
   "id": "30fd05cc",
   "metadata": {},
   "outputs": [
    {
     "name": "stdout",
     "output_type": "stream",
     "text": [
      "[[ 59  43  50 ... 140  84  72]\n",
      " [154 126 105 ... 139 142 144]\n",
      " [255 253 253 ...  83  83  84]\n",
      " ...\n",
      " [ 71  60  74 ...  68  69  68]\n",
      " [250 254 211 ... 215 255 254]\n",
      " [ 62  61  60 ... 130 130 131]] (10000, 3072)\n"
     ]
    }
   ],
   "source": [
    "print(dataBatch5, dataBatch5.shape)"
   ]
  },
  {
   "cell_type": "code",
   "execution_count": 22,
   "id": "ba93536f",
   "metadata": {},
   "outputs": [
    {
     "name": "stdout",
     "output_type": "stream",
     "text": [
      "[[158 159 165 ... 124 129 110]\n",
      " [235 231 232 ... 178 191 199]\n",
      " [158 158 139 ...   8   3   7]\n",
      " ...\n",
      " [ 20  19  15 ...  50  53  47]\n",
      " [ 25  15  23 ...  80  81  80]\n",
      " [ 73  98  99 ...  94  58  26]] (10000, 3072)\n"
     ]
    }
   ],
   "source": [
    "print(test_batch, test_batch.shape)"
   ]
  },
  {
   "cell_type": "code",
   "execution_count": 23,
   "id": "4e43ae39",
   "metadata": {},
   "outputs": [
    {
     "data": {
      "text/plain": [
       "array([158, 159, 165, ..., 124, 129, 110], dtype=uint8)"
      ]
     },
     "execution_count": 23,
     "metadata": {},
     "output_type": "execute_result"
    }
   ],
   "source": [
    "test_batch[0]"
   ]
  },
  {
   "cell_type": "code",
   "execution_count": 24,
   "id": "c2cda4dc",
   "metadata": {},
   "outputs": [
    {
     "data": {
      "text/plain": [
       "Text(0.5, 1.0, \"b'cat'\")"
      ]
     },
     "execution_count": 24,
     "metadata": {},
     "output_type": "execute_result"
    },
    {
     "data": {
      "image/png": "[encoded data removed]",
      "text/plain": [
       "<Figure size 432x288 with 1 Axes>"
      ]
     },
     "metadata": {
      "needs_background": "light"
     },
     "output_type": "display_data"
    }
   ],
   "source": [
    "test_batch_fi = test_batchUpImgs[b'data'][0]\n",
    "test_batch_fi = test_batch_fi.reshape(3, 32, 32)\n",
    "test_batch_fi = test_batch_fi.transpose(1, 2, 0)\n",
    "test_batch_fl = test_batchUpImgs[b'labels'][0]\n",
    "plt.imshow(test_batch_fi)\n",
    "plt.title(meta_data[b'label_names'][test_batch_fl])"
   ]
  },
  {
   "cell_type": "markdown",
   "id": "78c29518",
   "metadata": {},
   "source": [
    "Feature Extractor :"
   ]
  },
  {
   "cell_type": "code",
   "execution_count": 11,
   "id": "242cbec6",
   "metadata": {},
   "outputs": [],
   "source": [
    "class FeatureExtractor: # for reference\n",
    "    def __init__(self):\n",
    "        base_model = VGG19(weights='imagenet') # find for VGG19\n",
    "        self.model = Model(inputs=base_model.input, outputs=base_model.get_layer('fc2').output)\n",
    "\n",
    "    def extract(self, img):\n",
    "        img = img.resize((224, 224)) \n",
    "        img = img.convert('RGB')  \n",
    "        x = image.img_to_array(img) \n",
    "        x = np.expand_dims(x, axis=0)  \n",
    "        x = preprocess_input(x)  \n",
    "        feature = self.model.predict(x)[0] \n",
    "        return feature / np.linalg.norm(feature)"
   ]
  },
  {
   "cell_type": "code",
   "execution_count": 87,
   "id": "5f20ec1c",
   "metadata": {},
   "outputs": [],
   "source": [
    "# class FeatureExtractorSISE: # actual class used\n",
    "#     def __init__(self):\n",
    "#         base_model = VGG19(include_top=False, weights='imagenet', input_shape=(48,48,3))\n",
    "#         self.model = Model(inputs=base_model.input, outputs=base_model.get_layer('block5_conv4').output)\n",
    "        \n",
    "#     def extractSISEQ(self, img):          # for query image \n",
    "#         img = img.resize((48,48))\n",
    "#         img = img.convert('RGB')\n",
    "#         z1 = image.img_to_array(img)\n",
    "#         z2 = np.expand_dims(z1, axis=0)\n",
    "#         z3 = preprocess_input(z2)                \n",
    "#         feature = self.model.predict(z3)[0]       # (1, 4096) -> (4096,)\n",
    "#         return feature/np.linalg.norm(feature)   # Normalizing\n",
    "    \n",
    "#     def extractSISED(self, dataset_img):   # for dataset images  \n",
    "#         dataset_img = np.resize(dataset_img, (3,48,48))\n",
    "#         dataset_img = dataset_img.transpose(1, 2, 0)\n",
    "#         exp_dims_datasetimgs = np.expand_dims(dataset_img, axis=0)\n",
    "#         pp_input_datasetimgs = preprocess_input(exp_dims_datasetimgs)                \n",
    "#         feature_datasetimgs = self.model.predict(pp_input_datasetimgs)[0]       # (1, 4096) -> (4096,)\n",
    "#         return feature_datasetimgs/np.linalg.norm(feature_datasetimgs)   # Normalizing"
   ]
  },
  {
   "cell_type": "code",
   "execution_count": 25,
   "id": "1995c733",
   "metadata": {},
   "outputs": [],
   "source": [
    "class FeatureExtractorSISE: # actual class used\n",
    "    def __init__(self):\n",
    "        base_model = VGG19(weights='imagenet')\n",
    "        self.model = Model(inputs=base_model.input, outputs=base_model.get_layer('fc1').output)\n",
    "        \n",
    "    def extractSISEQ(self, img):          # for query image \n",
    "#         img = img.resize((224, 224))\n",
    "#         img = img.convert('RGB')\n",
    "#         z1 = image.img_to_array(img)\n",
    "        img = np.resize(img, (3, 224, 224))\n",
    "        z1 = img.transpose(1, 2, 0)\n",
    "        z2 = np.expand_dims(z1, axis=0)\n",
    "        z3 = preprocess_input(z2)                \n",
    "        feature = self.model.predict(z3)[0]       # (1, 4096) -> (4096,)\n",
    "        return feature/np.linalg.norm(feature)   # Normalizing\n",
    "    \n",
    "    def extractSISED(self, dataset_img):   # for dataset images  \n",
    "        dataset_img = np.resize(dataset_img, (3, 224, 224))\n",
    "        dataset_img = dataset_img.transpose(1, 2, 0)\n",
    "        exp_dims_datasetimgs = np.expand_dims(dataset_img, axis=0)\n",
    "        pp_input_datasetimgs = preprocess_input(exp_dims_datasetimgs)                \n",
    "        feature_datasetimgs = self.model.predict(pp_input_datasetimgs)[0]       # (1, 4096) -> (4096,)\n",
    "        return feature_datasetimgs/np.linalg.norm(feature_datasetimgs)   # Normalizing"
   ]
  },
  {
   "cell_type": "code",
   "execution_count": 6,
   "id": "fb7b37b3",
   "metadata": {},
   "outputs": [],
   "source": [
    "class FeatureExtractorM:  # Matsui's code\n",
    "    def __init__(self):\n",
    "        base_model = VGG16(weights='imagenet')\n",
    "        self.model = Model(inputs=base_model.input, outputs=base_model.get_layer('fc1').output)\n",
    "\n",
    "    def extract(self, img):\n",
    "        \"\"\"\n",
    "        Extract a deep feature from an input image\n",
    "        Args:\n",
    "            img: from PIL.Image.open(path) or tensorflow.keras.preprocessing.image.load_img(path)\n",
    "        Returns:\n",
    "            feature (np.ndarray): deep feature with the shape=(4096, )\n",
    "        \"\"\"\n",
    "        img = img.resize((224, 224))  # VGG must take a 224x224 img as an input\n",
    "        img = img.convert('RGB')  # Make sure img is color\n",
    "        x = image.img_to_array(img)  # To np.array. Height x Width x Channel. dtype=float32\n",
    "        x = np.expand_dims(x, axis=0)  # (H, W, C)->(1, H, W, C), where the first elem is the number of img\n",
    "        x = preprocess_input(x)  # Subtracting avg values for each pixel\n",
    "        feature = self.model.predict(x)[0]  # (1, 4096) -> (4096, )\n",
    "        return feature / np.linalg.norm(feature)  # Normalize"
   ]
  },
  {
   "cell_type": "code",
   "execution_count": 26,
   "id": "919811d3",
   "metadata": {},
   "outputs": [
    {
     "name": "stdout",
     "output_type": "stream",
     "text": [
      "[0.         0.         0.00567609 ... 0.         0.         0.        ]\n",
      "(4096,)\n",
      "<class 'numpy.ndarray'>\n"
     ]
    }
   ],
   "source": [
    "# image_path_query = 'E:\\\\VIDND\\\\Projects\\\\Small Image Search Engine (SISE)\\\\elephant.jpg' // external image used, from laptop \n",
    "# queryFeatures = FeatureExtractorSISE().extractSISEQ(img=pil.open(image_path_query))    # Features of Query Image\n",
    "# print(queryFeatures)\n",
    "# print(queryFeatures.shape)\n",
    "# print(type(queryFeatures))\n",
    "\n",
    "queryFeatures = FeatureExtractorSISE().extractSISEQ(test_batch[0])\n",
    "print(queryFeatures)\n",
    "print(queryFeatures.shape)\n",
    "print(type(queryFeatures))"
   ]
  },
  {
   "cell_type": "code",
   "execution_count": null,
   "id": "214ba62f",
   "metadata": {},
   "outputs": [],
   "source": [
    "features = [] # for only databatch1, 10000 images from entire dataset\n",
    "no = 0\n",
    "for i in dataBatch1:\n",
    "    datasetFeatures = FeatureExtractorSISE().extractSISED(dataBatch1[i, ])\n",
    "    no = no+1\n",
    "    print(no)\n",
    "    features.append(datasetFeatures)"
   ]
  },
  {
   "cell_type": "code",
   "execution_count": null,
   "id": "f53d58a9",
   "metadata": {},
   "outputs": [],
   "source": [
    "featuresBatch2 = [] # for only databatch1, 10000 images from entire dataset\n",
    "no = 0\n",
    "for i in dataBatch2:\n",
    "    datasetFeatures = FeatureExtractorSISE().extractSISED(dataBatch2[i, ])\n",
    "    no = no+1\n",
    "    print(no)\n",
    "    features.append(datasetFeatures)"
   ]
  },
  {
   "cell_type": "code",
   "execution_count": 62,
   "id": "448fd51d",
   "metadata": {},
   "outputs": [
    {
     "name": "stdout",
     "output_type": "stream",
     "text": [
      "[[[[0.         0.         0.         ... 0.         0.\n",
      "    0.        ]\n",
      "   [0.         0.         0.         ... 0.         0.\n",
      "    0.        ]\n",
      "   [0.         0.         0.         ... 0.         0.00617675\n",
      "    0.        ]]\n",
      "\n",
      "  [[0.         0.         0.         ... 0.         0.\n",
      "    0.        ]\n",
      "   [0.         0.         0.         ... 0.         0.\n",
      "    0.        ]\n",
      "   [0.         0.         0.         ... 0.         0.\n",
      "    0.        ]]\n",
      "\n",
      "  [[0.         0.         0.         ... 0.         0.\n",
      "    0.        ]\n",
      "   [0.         0.         0.         ... 0.         0.\n",
      "    0.        ]\n",
      "   [0.         0.         0.         ... 0.         0.\n",
      "    0.        ]]]\n",
      "\n",
      "\n",
      " [[[0.         0.         0.         ... 0.         0.00783338\n",
      "    0.        ]\n",
      "   [0.         0.         0.         ... 0.         0.\n",
      "    0.        ]\n",
      "   [0.         0.         0.         ... 0.         0.00512905\n",
      "    0.        ]]\n",
      "\n",
      "  [[0.         0.         0.         ... 0.         0.\n",
      "    0.        ]\n",
      "   [0.         0.         0.         ... 0.         0.\n",
      "    0.        ]\n",
      "   [0.         0.         0.         ... 0.         0.\n",
      "    0.        ]]\n",
      "\n",
      "  [[0.         0.         0.         ... 0.         0.\n",
      "    0.        ]\n",
      "   [0.         0.         0.         ... 0.         0.\n",
      "    0.        ]\n",
      "   [0.         0.         0.         ... 0.         0.\n",
      "    0.        ]]]\n",
      "\n",
      "\n",
      " [[[0.         0.         0.         ... 0.         0.01789575\n",
      "    0.        ]\n",
      "   [0.         0.         0.         ... 0.         0.00106738\n",
      "    0.        ]\n",
      "   [0.         0.         0.         ... 0.         0.03769569\n",
      "    0.        ]]\n",
      "\n",
      "  [[0.         0.         0.         ... 0.         0.\n",
      "    0.        ]\n",
      "   [0.         0.         0.         ... 0.         0.\n",
      "    0.        ]\n",
      "   [0.         0.         0.         ... 0.         0.\n",
      "    0.        ]]\n",
      "\n",
      "  [[0.         0.         0.         ... 0.         0.\n",
      "    0.        ]\n",
      "   [0.         0.         0.         ... 0.         0.\n",
      "    0.        ]\n",
      "   [0.         0.         0.         ... 0.         0.\n",
      "    0.        ]]]\n",
      "\n",
      "\n",
      " ...\n",
      "\n",
      "\n",
      " [[[0.         0.         0.         ... 0.         0.00636981\n",
      "    0.        ]\n",
      "   [0.         0.         0.         ... 0.         0.\n",
      "    0.        ]\n",
      "   [0.         0.         0.         ... 0.         0.03701076\n",
      "    0.        ]]\n",
      "\n",
      "  [[0.         0.         0.         ... 0.         0.\n",
      "    0.        ]\n",
      "   [0.         0.         0.         ... 0.         0.\n",
      "    0.        ]\n",
      "   [0.         0.         0.         ... 0.         0.\n",
      "    0.        ]]\n",
      "\n",
      "  [[0.         0.         0.         ... 0.         0.\n",
      "    0.        ]\n",
      "   [0.         0.         0.         ... 0.         0.\n",
      "    0.        ]\n",
      "   [0.         0.         0.         ... 0.         0.\n",
      "    0.        ]]]\n",
      "\n",
      "\n",
      " [[[0.         0.         0.         ... 0.         0.\n",
      "    0.        ]\n",
      "   [0.         0.         0.         ... 0.         0.\n",
      "    0.        ]\n",
      "   [0.         0.         0.         ... 0.         0.\n",
      "    0.        ]]\n",
      "\n",
      "  [[0.         0.         0.         ... 0.         0.\n",
      "    0.        ]\n",
      "   [0.         0.         0.         ... 0.         0.\n",
      "    0.        ]\n",
      "   [0.         0.         0.         ... 0.         0.\n",
      "    0.        ]]\n",
      "\n",
      "  [[0.         0.         0.         ... 0.         0.\n",
      "    0.        ]\n",
      "   [0.         0.         0.         ... 0.         0.\n",
      "    0.        ]\n",
      "   [0.         0.         0.         ... 0.         0.\n",
      "    0.        ]]]\n",
      "\n",
      "\n",
      " [[[0.         0.         0.         ... 0.         0.\n",
      "    0.        ]\n",
      "   [0.         0.         0.         ... 0.         0.\n",
      "    0.        ]\n",
      "   [0.         0.         0.         ... 0.         0.01826492\n",
      "    0.        ]]\n",
      "\n",
      "  [[0.         0.         0.         ... 0.         0.\n",
      "    0.        ]\n",
      "   [0.         0.         0.         ... 0.         0.\n",
      "    0.        ]\n",
      "   [0.         0.         0.         ... 0.         0.\n",
      "    0.        ]]\n",
      "\n",
      "  [[0.         0.         0.         ... 0.         0.\n",
      "    0.        ]\n",
      "   [0.         0.         0.         ... 0.         0.\n",
      "    0.        ]\n",
      "   [0.         0.         0.         ... 0.         0.\n",
      "    0.        ]]]] (10000, 3, 3, 512)\n"
     ]
    }
   ],
   "source": [
    "features = np.array(features)\n",
    "print(features, features.shape)"
   ]
  },
  {
   "cell_type": "code",
   "execution_count": 85,
   "id": "29d67b70",
   "metadata": {},
   "outputs": [
    {
     "data": {
      "text/plain": [
       "numpy.ndarray"
      ]
     },
     "execution_count": 85,
     "metadata": {},
     "output_type": "execute_result"
    }
   ],
   "source": [
    "type(features[10])"
   ]
  },
  {
   "cell_type": "code",
   "execution_count": 86,
   "id": "731fe452",
   "metadata": {},
   "outputs": [
    {
     "data": {
      "text/plain": [
       "(3, 3, 512)"
      ]
     },
     "execution_count": 86,
     "metadata": {},
     "output_type": "execute_result"
    }
   ],
   "source": [
    "features[10].shape"
   ]
  },
  {
   "cell_type": "markdown",
   "id": "75abcfc8",
   "metadata": {},
   "source": [
    "Searching image dataset for query image & closest dist :"
   ]
  },
  {
   "cell_type": "code",
   "execution_count": 25,
   "id": "57be1aca",
   "metadata": {},
   "outputs": [
    {
     "name": "stdout",
     "output_type": "stream",
     "text": [
      "[[[0.         0.         0.         ... 0.         0.         0.02500442]\n",
      "  [0.         0.         0.         ... 0.         0.         0.01624876]\n",
      "  [0.         0.         0.         ... 0.         0.00617675 0.02574723]]\n",
      "\n",
      " [[0.         0.         0.         ... 0.         0.00783338 0.02500442]\n",
      "  [0.         0.         0.         ... 0.         0.         0.01624876]\n",
      "  [0.         0.         0.         ... 0.         0.00512905 0.02574723]]\n",
      "\n",
      " [[0.         0.         0.         ... 0.         0.01789575 0.02500442]\n",
      "  [0.         0.         0.         ... 0.         0.00106738 0.01624876]\n",
      "  [0.         0.         0.         ... 0.         0.03769569 0.02574723]]\n",
      "\n",
      " ...\n",
      "\n",
      " [[0.         0.         0.         ... 0.         0.00636981 0.02500442]\n",
      "  [0.         0.         0.         ... 0.         0.         0.01624876]\n",
      "  [0.         0.         0.         ... 0.         0.03701076 0.02574723]]\n",
      "\n",
      " [[0.         0.         0.         ... 0.         0.         0.02500442]\n",
      "  [0.         0.         0.         ... 0.         0.         0.01624876]\n",
      "  [0.         0.         0.         ... 0.         0.         0.02574723]]\n",
      "\n",
      " [[0.         0.         0.         ... 0.         0.         0.02500442]\n",
      "  [0.         0.         0.         ... 0.         0.         0.01624876]\n",
      "  [0.         0.         0.         ... 0.         0.01826492 0.02574723]]] (10000, 3, 512)\n"
     ]
    }
   ],
   "source": [
    "dists = np.linalg.norm(features-queryFeatures, axis=1) \n",
    "print(dists, dists.shape)"
   ]
  },
  {
   "cell_type": "code",
   "execution_count": 60,
   "id": "2c4f0723",
   "metadata": {},
   "outputs": [
    {
     "name": "stdout",
     "output_type": "stream",
     "text": [
      "[[[  0 260 436 ... 259  53  30]\n",
      "  [  0 278 277 ... 379  30  53]\n",
      "  [  0 256 433 ... 259  53  30]]\n",
      "\n",
      " [[  0 266 265 ... 259  30  53]\n",
      "  [  0 280 279 ... 506  30  53]\n",
      "  [  0 264 263 ... 259  30  53]]\n",
      "\n",
      " [[  0 266 265 ... 455  30  53]\n",
      "  [  0 283 453 ... 177  30  53]\n",
      "  [  0 257 256 ... 259  53  30]]]\n"
     ]
    }
   ],
   "source": [
    "# dists = np.linalg.norm(features-queryFeatures, axis=1) \n",
    "ids = np.argsort(dists)[:3]  # Top 8 results\n",
    "# scores = [dists[id] for id in ids]\n",
    "# print(scores)\n",
    "print(ids)"
   ]
  },
  {
   "cell_type": "markdown",
   "id": "59f87c1f",
   "metadata": {},
   "source": [
    "# ============= Rough Stuff ================="
   ]
  },
  {
   "cell_type": "code",
   "execution_count": 10,
   "id": "11c8f22e",
   "metadata": {},
   "outputs": [],
   "source": [
    "img_path = 'E:\\\\VIDND\\\\Projects\\\\Small Image Search Engine (SISE)\\\\elephant.jpg'\n",
    "imgT = image.load_img(img_path, target_size=(224, 224))\n",
    "i2a = image.img_to_array(imgT)\n",
    "expD = np.expand_dims(i2a, axis=0)\n",
    "pp = preprocess_input(expD)"
   ]
  },
  {
   "cell_type": "code",
   "execution_count": null,
   "id": "067d266f",
   "metadata": {},
   "outputs": [],
   "source": [
    "print(i2a, i2a.shape)"
   ]
  },
  {
   "cell_type": "code",
   "execution_count": null,
   "id": "5abd32b3",
   "metadata": {},
   "outputs": [],
   "source": [
    "res = np.resize(i2a, (224,224))\n",
    "print(res, res.shape)"
   ]
  },
  {
   "cell_type": "code",
   "execution_count": null,
   "id": "566526a6",
   "metadata": {},
   "outputs": [],
   "source": [
    "expD"
   ]
  },
  {
   "cell_type": "code",
   "execution_count": null,
   "id": "bfcf2dcc",
   "metadata": {},
   "outputs": [],
   "source": [
    "pp"
   ]
  },
  {
   "cell_type": "code",
   "execution_count": 2,
   "id": "e2165662",
   "metadata": {},
   "outputs": [
    {
     "name": "stdout",
     "output_type": "stream",
     "text": [
      "Model: \"vgg19\"\n",
      "_________________________________________________________________\n",
      "Layer (type)                 Output Shape              Param #   \n",
      "=================================================================\n",
      "input_1 (InputLayer)         [(None, 224, 224, 3)]     0         \n",
      "_________________________________________________________________\n",
      "block1_conv1 (Conv2D)        (None, 224, 224, 64)      1792      \n",
      "_________________________________________________________________\n",
      "block1_conv2 (Conv2D)        (None, 224, 224, 64)      36928     \n",
      "_________________________________________________________________\n",
      "block1_pool (MaxPooling2D)   (None, 112, 112, 64)      0         \n",
      "_________________________________________________________________\n",
      "block2_conv1 (Conv2D)        (None, 112, 112, 128)     73856     \n",
      "_________________________________________________________________\n",
      "block2_conv2 (Conv2D)        (None, 112, 112, 128)     147584    \n",
      "_________________________________________________________________\n",
      "block2_pool (MaxPooling2D)   (None, 56, 56, 128)       0         \n",
      "_________________________________________________________________\n",
      "block3_conv1 (Conv2D)        (None, 56, 56, 256)       295168    \n",
      "_________________________________________________________________\n",
      "block3_conv2 (Conv2D)        (None, 56, 56, 256)       590080    \n",
      "_________________________________________________________________\n",
      "block3_conv3 (Conv2D)        (None, 56, 56, 256)       590080    \n",
      "_________________________________________________________________\n",
      "block3_conv4 (Conv2D)        (None, 56, 56, 256)       590080    \n",
      "_________________________________________________________________\n",
      "block3_pool (MaxPooling2D)   (None, 28, 28, 256)       0         \n",
      "_________________________________________________________________\n",
      "block4_conv1 (Conv2D)        (None, 28, 28, 512)       1180160   \n",
      "_________________________________________________________________\n",
      "block4_conv2 (Conv2D)        (None, 28, 28, 512)       2359808   \n",
      "_________________________________________________________________\n",
      "block4_conv3 (Conv2D)        (None, 28, 28, 512)       2359808   \n",
      "_________________________________________________________________\n",
      "block4_conv4 (Conv2D)        (None, 28, 28, 512)       2359808   \n",
      "_________________________________________________________________\n",
      "block4_pool (MaxPooling2D)   (None, 14, 14, 512)       0         \n",
      "_________________________________________________________________\n",
      "block5_conv1 (Conv2D)        (None, 14, 14, 512)       2359808   \n",
      "_________________________________________________________________\n",
      "block5_conv2 (Conv2D)        (None, 14, 14, 512)       2359808   \n",
      "_________________________________________________________________\n",
      "block5_conv3 (Conv2D)        (None, 14, 14, 512)       2359808   \n",
      "_________________________________________________________________\n",
      "block5_conv4 (Conv2D)        (None, 14, 14, 512)       2359808   \n",
      "_________________________________________________________________\n",
      "block5_pool (MaxPooling2D)   (None, 7, 7, 512)         0         \n",
      "_________________________________________________________________\n",
      "flatten (Flatten)            (None, 25088)             0         \n",
      "_________________________________________________________________\n",
      "fc1 (Dense)                  (None, 4096)              102764544 \n",
      "_________________________________________________________________\n",
      "fc2 (Dense)                  (None, 4096)              16781312  \n",
      "_________________________________________________________________\n",
      "predictions (Dense)          (None, 1000)              4097000   \n",
      "=================================================================\n",
      "Total params: 143,667,240\n",
      "Trainable params: 143,667,240\n",
      "Non-trainable params: 0\n",
      "_________________________________________________________________\n",
      "None\n"
     ]
    }
   ],
   "source": [
    "m = VGG19()\n",
    "print(m.summary())"
   ]
  },
  {
   "cell_type": "code",
   "execution_count": 31,
   "id": "c12113fc",
   "metadata": {},
   "outputs": [],
   "source": [
    "def unpickle(file):\n",
    "    with open(file, 'rb') as fo:\n",
    "        dict = pickle.load(fo, encoding='bytes')\n",
    "    return dict\n",
    "\n",
    "unp_imgs1 = unpickle(\"E:\\\\VIDND\\Projects\\\\Small Image Search Engine (SISE)\\\\cifar-10\\\\cifar-10-batches-py\\\\data_batch_1\")\n",
    "unp_imgs2 = unpickle(\"E:\\\\VIDND\\Projects\\\\Small Image Search Engine (SISE)\\\\cifar-10\\\\cifar-10-batches-py\\\\data_batch_2\")"
   ]
  },
  {
   "cell_type": "code",
   "execution_count": null,
   "id": "555c6594",
   "metadata": {},
   "outputs": [],
   "source": [
    "unp_imgs1"
   ]
  },
  {
   "cell_type": "code",
   "execution_count": 33,
   "id": "bdb8073c",
   "metadata": {},
   "outputs": [
    {
     "name": "stdout",
     "output_type": "stream",
     "text": [
      "[[ 59  43  50 ... 140  84  72]\n",
      " [154 126 105 ... 139 142 144]\n",
      " [255 253 253 ...  83  83  84]\n",
      " ...\n",
      " [ 71  60  74 ...  68  69  68]\n",
      " [250 254 211 ... 215 255 254]\n",
      " [ 62  61  60 ... 130 130 131]]\n"
     ]
    }
   ],
   "source": [
    "print(unp_imgs1[b'data'])"
   ]
  },
  {
   "cell_type": "code",
   "execution_count": 34,
   "id": "b37f416b",
   "metadata": {},
   "outputs": [
    {
     "name": "stdout",
     "output_type": "stream",
     "text": [
      "[[ 35  27  25 ... 169 168 168]\n",
      " [ 20  20  18 ... 111  97  51]\n",
      " [116 115 155 ...  18  84 124]\n",
      " ...\n",
      " [127 139 155 ... 197 192 191]\n",
      " [190 200 208 ... 163 182 192]\n",
      " [177 174 182 ... 119 127 136]]\n"
     ]
    }
   ],
   "source": [
    "print(unp_imgs2[b'data'])"
   ]
  },
  {
   "cell_type": "code",
   "execution_count": 30,
   "id": "d4218339",
   "metadata": {},
   "outputs": [
    {
     "name": "stdout",
     "output_type": "stream",
     "text": [
      "<class 'numpy.ndarray'> (10000, 3072)\n"
     ]
    }
   ],
   "source": [
    "print(type(unp_imgs[b'data']), unp_imgs[b'data'].shape)"
   ]
  },
  {
   "cell_type": "code",
   "execution_count": 38,
   "id": "885f6a6f",
   "metadata": {},
   "outputs": [
    {
     "data": {
      "text/plain": [
       "array([[ 59,  43,  50, ..., 140,  84,  72],\n",
       "       [154, 126, 105, ..., 139, 142, 144],\n",
       "       [255, 253, 253, ...,  83,  83,  84],\n",
       "       ...,\n",
       "       [127, 139, 155, ..., 197, 192, 191],\n",
       "       [190, 200, 208, ..., 163, 182, 192],\n",
       "       [177, 174, 182, ..., 119, 127, 136]], dtype=uint8)"
      ]
     },
     "execution_count": 38,
     "metadata": {},
     "output_type": "execute_result"
    }
   ],
   "source": [
    "np.append(unp_imgs1[b'data'], unp_imgs2[b'data'], axis=0)"
   ]
  },
  {
   "cell_type": "code",
   "execution_count": 3,
   "id": "8fec9e03",
   "metadata": {},
   "outputs": [
    {
     "ename": "NameError",
     "evalue": "name 'base_model' is not defined",
     "output_type": "error",
     "traceback": [
      "\u001b[1;31m---------------------------------------------------------------------------\u001b[0m",
      "\u001b[1;31mNameError\u001b[0m                                 Traceback (most recent call last)",
      "Input \u001b[1;32mIn [3]\u001b[0m, in \u001b[0;36m<cell line: 1>\u001b[1;34m()\u001b[0m\n\u001b[1;32m----> 1\u001b[0m M \u001b[38;5;241m=\u001b[39m Model(inputs\u001b[38;5;241m=\u001b[39m\u001b[43mbase_model\u001b[49m\u001b[38;5;241m.\u001b[39minput, outputs\u001b[38;5;241m=\u001b[39mbase_model\u001b[38;5;241m.\u001b[39mget_layer(\u001b[38;5;124m'\u001b[39m\u001b[38;5;124mfc2\u001b[39m\u001b[38;5;124m'\u001b[39m)\u001b[38;5;241m.\u001b[39moutput)\n",
      "\u001b[1;31mNameError\u001b[0m: name 'base_model' is not defined"
     ]
    }
   ],
   "source": [
    "M = Model(inputs=base_model.input, outputs=base_model.get_layer('fc2').output)"
   ]
  },
  {
   "cell_type": "code",
   "execution_count": 2,
   "id": "fab9d0e9",
   "metadata": {},
   "outputs": [
    {
     "ename": "NameError",
     "evalue": "name 'M' is not defined",
     "output_type": "error",
     "traceback": [
      "\u001b[1;31m---------------------------------------------------------------------------\u001b[0m",
      "\u001b[1;31mNameError\u001b[0m                                 Traceback (most recent call last)",
      "Input \u001b[1;32mIn [2]\u001b[0m, in \u001b[0;36m<cell line: 8>\u001b[1;34m()\u001b[0m\n\u001b[0;32m      6\u001b[0m x2 \u001b[38;5;241m=\u001b[39m np\u001b[38;5;241m.\u001b[39mexpand_dims(x1, axis\u001b[38;5;241m=\u001b[39m\u001b[38;5;241m0\u001b[39m)  \n\u001b[0;32m      7\u001b[0m x3 \u001b[38;5;241m=\u001b[39m preprocess_input(x2)  \n\u001b[1;32m----> 8\u001b[0m feature \u001b[38;5;241m=\u001b[39m \u001b[43mM\u001b[49m\u001b[38;5;241m.\u001b[39mpredict(x3)[\u001b[38;5;241m0\u001b[39m] \n\u001b[0;32m      9\u001b[0m ret \u001b[38;5;241m=\u001b[39m feature \u001b[38;5;241m/\u001b[39m np\u001b[38;5;241m.\u001b[39mlinalg\u001b[38;5;241m.\u001b[39mnorm(feature)\n",
      "\u001b[1;31mNameError\u001b[0m: name 'M' is not defined"
     ]
    }
   ],
   "source": [
    "image_path_query = 'E:\\\\VIDND\\\\Projects\\\\Small Image Search Engine (SISE)\\\\elephant.jpg'\n",
    "img_op = Image.open(image_path_query)\n",
    "img = img_op.resize((224, 224)) \n",
    "img = img.convert('RGB')  \n",
    "x1 = image.img_to_array(img) \n",
    "x2 = np.expand_dims(x1, axis=0)  \n",
    "x3 = preprocess_input(x2)  \n",
    "feature = M.predict(x3)[0] \n",
    "ret = feature / np.linalg.norm(feature)"
   ]
  },
  {
   "cell_type": "code",
   "execution_count": 43,
   "id": "670cb5dc",
   "metadata": {},
   "outputs": [
    {
     "name": "stdout",
     "output_type": "stream",
     "text": [
      "<PIL.Image.Image image mode=RGB size=224x224 at 0x206EA777100>\n"
     ]
    }
   ],
   "source": [
    "image_path_query = 'E:\\\\VIDND\\\\Projects\\\\Small Image Search Engine (SISE)\\\\elephant.jpg'\n",
    "with pil.open(image_path_query) as im:\n",
    "    rez = im.resize((224, 224))\n",
    "print(rez)"
   ]
  },
  {
   "cell_type": "code",
   "execution_count": 57,
   "id": "ca17a47f",
   "metadata": {},
   "outputs": [],
   "source": [
    "class FeatureExtractorSISET:   \n",
    "    def __init__(self):\n",
    "        base_model = VGG19(include_top=False, weights='imagenet', input_shape=(48,48,3))\n",
    "        self.model = Model(inputs=base_model.input, outputs=base_model.get_layer('block5_conv4').output)\n",
    "        \n",
    "    def extractSISEQ(self, img):          # for query image \n",
    "        img = img.resize((224,224))\n",
    "        img = img.convert('RGB')\n",
    "        z1 = image.img_to_array(img)\n",
    "        z2 = np.expand_dims(z1, axis=0)\n",
    "        z3 = preprocess_input(z2)                \n",
    "        feature = self.model.predict(z3)[0]       # (1, 4096) -> (4096,)\n",
    "        return feature/np.linalg.norm(feature)   # Normalizing\n",
    "    \n",
    "    def extractSISED(self, dataset_img):   # for dataset images  \n",
    "        dataset_img = np.resize(dataset_img, (3,48,48))\n",
    "        dataset_img = dataset_img.transpose(1, 2, 0)\n",
    "        exp_dims_datasetimgs = np.expand_dims(dataset_img, axis=0)\n",
    "        pp_input_datasetimgs = preprocess_input(exp_dims_datasetimgs)                \n",
    "        feature_datasetimgs = self.model.predict(pp_input_datasetimgs)[0]       # (1, 4096) -> (4096,)\n",
    "        return feature_datasetimgs/np.linalg.norm(feature_datasetimgs)   # Normalizing"
   ]
  },
  {
   "cell_type": "code",
   "execution_count": null,
   "id": "d7fd50c0",
   "metadata": {},
   "outputs": [],
   "source": [
    "print(d, d.shape)\n",
    "im = np.resize(d, (3, 48, 48))\n",
    "print(im, im.shape)\n",
    "im = im.transpose(1, 2, 0)\n",
    "print(im, im.shape)\n",
    "exp = np.expand_dims(im, axis=0)\n",
    "print(exp, exp.shape)\n",
    "prepro = preprocess_input(im)\n",
    "print(prepro, prepro.shape)"
   ]
  },
  {
   "cell_type": "code",
   "execution_count": 58,
   "id": "60885fd6",
   "metadata": {
    "scrolled": true
   },
   "outputs": [
    {
     "name": "stdout",
     "output_type": "stream",
     "text": [
      "WARNING:tensorflow:5 out of the last 5 calls to <function Model.make_predict_function.<locals>.predict_function at 0x0000015CD1ACD0D0> triggered tf.function retracing. Tracing is expensive and the excessive number of tracings could be due to (1) creating @tf.function repeatedly in a loop, (2) passing tensors with different shapes, (3) passing Python objects instead of tensors. For (1), please define your @tf.function outside of the loop. For (2), @tf.function has experimental_relax_shapes=True option that relaxes argument shapes that can avoid unnecessary retracing. For (3), please refer to https://www.tensorflow.org/guide/function#controlling_retracing and https://www.tensorflow.org/api_docs/python/tf/function for  more details.\n",
      "[[[0.         0.         0.         ... 0.         0.01395447 0.        ]\n",
      "  [0.         0.         0.         ... 0.         0.         0.        ]\n",
      "  [0.         0.         0.         ... 0.         0.05115408 0.        ]]\n",
      "\n",
      " [[0.         0.         0.         ... 0.         0.         0.        ]\n",
      "  [0.         0.         0.         ... 0.         0.         0.        ]\n",
      "  [0.         0.         0.         ... 0.         0.         0.        ]]\n",
      "\n",
      " [[0.         0.         0.         ... 0.         0.02525747 0.        ]\n",
      "  [0.         0.         0.         ... 0.         0.         0.        ]\n",
      "  [0.         0.         0.         ... 0.         0.         0.        ]]]\n",
      "(3, 3, 512)\n"
     ]
    }
   ],
   "source": [
    "d = datasetImgs[1, ]\n",
    "dFs = FeatureExtractorSISET().extractSISED(d)\n",
    "print(dFs)\n",
    "print(dFs.shape)"
   ]
  },
  {
   "cell_type": "code",
   "execution_count": null,
   "id": "c5e801a4",
   "metadata": {},
   "outputs": [],
   "source": [
    "image_path_query = 'E:\\\\VIDND\\\\Projects\\\\Small Image Search Engine (SISE)\\\\elephant.jpg'\n",
    "im1 = pil.open(image_path_query)\n",
    "im1 = im1.resize((48, 48))\n",
    "print(im1)\n",
    "im1 = im1.convert('RGB')\n",
    "print(im1)\n",
    "z = image.img_to_array(im1)\n",
    "print(z, z.shape)\n",
    "z = np.expand_dims(z, axis=0)\n",
    "print(z, z.shape)"
   ]
  },
  {
   "cell_type": "code",
   "execution_count": 20,
   "id": "9e70ecee",
   "metadata": {},
   "outputs": [
    {
     "data": {
      "text/plain": [
       "array([4, 3, 2, 1, 0], dtype=int64)"
      ]
     },
     "execution_count": 20,
     "metadata": {},
     "output_type": "execute_result"
    }
   ],
   "source": [
    "arr = np.array([5,4,3,2,1])\n",
    "np.argsort(arr)"
   ]
  },
  {
   "cell_type": "code",
   "execution_count": 21,
   "id": "9a943408",
   "metadata": {},
   "outputs": [
    {
     "data": {
      "text/plain": [
       "array([1, 2, 3, 4, 5])"
      ]
     },
     "execution_count": 21,
     "metadata": {},
     "output_type": "execute_result"
    }
   ],
   "source": [
    "arr[np.argsort(arr)]"
   ]
  },
  {
   "cell_type": "code",
   "execution_count": 22,
   "id": "d8a3dc85",
   "metadata": {},
   "outputs": [
    {
     "data": {
      "text/plain": [
       "array([4, 3, 2], dtype=int64)"
      ]
     },
     "execution_count": 22,
     "metadata": {},
     "output_type": "execute_result"
    }
   ],
   "source": [
    "np.argsort(arr)[:3]"
   ]
  },
  {
   "cell_type": "code",
   "execution_count": 23,
   "id": "d230067b",
   "metadata": {},
   "outputs": [
    {
     "data": {
      "text/plain": [
       "array([1, 2, 3])"
      ]
     },
     "execution_count": 23,
     "metadata": {},
     "output_type": "execute_result"
    }
   ],
   "source": [
    "arr[np.argsort(arr)[:3]]"
   ]
  },
  {
   "cell_type": "code",
   "execution_count": null,
   "id": "cfb9c4e7",
   "metadata": {},
   "outputs": [],
   "source": [
    "upImgs1"
   ]
  },
  {
   "cell_type": "code",
   "execution_count": 15,
   "id": "2b11a2ff",
   "metadata": {},
   "outputs": [
    {
     "data": {
      "text/plain": [
       "array([[ 59,  43,  50, ..., 140,  84,  72],\n",
       "       [154, 126, 105, ..., 139, 142, 144],\n",
       "       [255, 253, 253, ...,  83,  83,  84],\n",
       "       ...,\n",
       "       [ 71,  60,  74, ...,  68,  69,  68],\n",
       "       [250, 254, 211, ..., 215, 255, 254],\n",
       "       [ 62,  61,  60, ..., 130, 130, 131]], dtype=uint8)"
      ]
     },
     "execution_count": 15,
     "metadata": {},
     "output_type": "execute_result"
    }
   ],
   "source": [
    "upImgs1[b'data']"
   ]
  },
  {
   "cell_type": "code",
   "execution_count": 14,
   "id": "d38e1621",
   "metadata": {},
   "outputs": [
    {
     "data": {
      "text/plain": [
       "6"
      ]
     },
     "execution_count": 14,
     "metadata": {},
     "output_type": "execute_result"
    }
   ],
   "source": [
    "upImgs1[b'labels'][0]"
   ]
  },
  {
   "cell_type": "code",
   "execution_count": 36,
   "id": "e49ce5ef",
   "metadata": {},
   "outputs": [
    {
     "data": {
      "text/plain": [
       "[b'airplane',\n",
       " b'automobile',\n",
       " b'bird',\n",
       " b'cat',\n",
       " b'deer',\n",
       " b'dog',\n",
       " b'frog',\n",
       " b'horse',\n",
       " b'ship',\n",
       " b'truck']"
      ]
     },
     "execution_count": 36,
     "metadata": {},
     "output_type": "execute_result"
    }
   ],
   "source": [
    "meta_data[b'label_names']"
   ]
  },
  {
   "cell_type": "code",
   "execution_count": 11,
   "id": "173aa869",
   "metadata": {},
   "outputs": [
    {
     "data": {
      "text/plain": [
       "{b'num_cases_per_batch': 10000,\n",
       " b'label_names': [b'airplane',\n",
       "  b'automobile',\n",
       "  b'bird',\n",
       "  b'cat',\n",
       "  b'deer',\n",
       "  b'dog',\n",
       "  b'frog',\n",
       "  b'horse',\n",
       "  b'ship',\n",
       "  b'truck'],\n",
       " b'num_vis': 3072}"
      ]
     },
     "execution_count": 11,
     "metadata": {},
     "output_type": "execute_result"
    }
   ],
   "source": [
    "meta_data"
   ]
  },
  {
   "cell_type": "code",
   "execution_count": 31,
   "id": "f9c3bfaa",
   "metadata": {},
   "outputs": [
    {
     "data": {
      "text/plain": [
       "Text(0.5, 1.0, \"b'frog'\")"
      ]
     },
     "execution_count": 31,
     "metadata": {},
     "output_type": "execute_result"
    },
    {
     "data": {
      "image/png": "[encoded data removed]",
      "text/plain": [
       "<Figure size 432x288 with 1 Axes>"
      ]
     },
     "metadata": {
      "needs_background": "light"
     },
     "output_type": "display_data"
    }
   ],
   "source": [
    "b1_fi = upImgs1[b'data'][0]\n",
    "b1_fi = b1_fi.reshape(3, 32, 32)\n",
    "b1_fi = b1_fi.transpose(1, 2, 0)\n",
    "b1_fl = upImgs1[b'labels'][0]\n",
    "plt.imshow(b1_fi)\n",
    "plt.title(meta_data[b'label_names'][b1_fl])"
   ]
  },
  {
   "cell_type": "code",
   "execution_count": 32,
   "id": "9cfe751f",
   "metadata": {},
   "outputs": [
    {
     "data": {
      "text/plain": [
       "dtype('uint8')"
      ]
     },
     "execution_count": 32,
     "metadata": {},
     "output_type": "execute_result"
    }
   ],
   "source": [
    "upImgs1[b'data'][0].dtype"
   ]
  },
  {
   "cell_type": "code",
   "execution_count": 48,
   "id": "29b2d355",
   "metadata": {},
   "outputs": [
    {
     "ename": "MemoryError",
     "evalue": "Unable to allocate 54.0 MiB for an array with shape (3072, 3, 3, 512) and data type float32",
     "output_type": "error",
     "traceback": [
      "\u001b[1;31m---------------------------------------------------------------------------\u001b[0m",
      "\u001b[1;31mMemoryError\u001b[0m                               Traceback (most recent call last)",
      "Input \u001b[1;32mIn [48]\u001b[0m, in \u001b[0;36m<cell line: 3>\u001b[1;34m()\u001b[0m\n\u001b[0;32m      1\u001b[0m labels \u001b[38;5;241m=\u001b[39m np\u001b[38;5;241m.\u001b[39marray(upImgs1[\u001b[38;5;124mb\u001b[39m\u001b[38;5;124m'\u001b[39m\u001b[38;5;124mlabels\u001b[39m\u001b[38;5;124m'\u001b[39m])\n\u001b[0;32m      2\u001b[0m label_names \u001b[38;5;241m=\u001b[39m np\u001b[38;5;241m.\u001b[39marray(meta_data[\u001b[38;5;124mb\u001b[39m\u001b[38;5;124m'\u001b[39m\u001b[38;5;124mlabel_names\u001b[39m\u001b[38;5;124m'\u001b[39m])\n\u001b[1;32m----> 3\u001b[0m ImgLabelFeature \u001b[38;5;241m=\u001b[39m [(features[i], label_names[labels[i]]) \u001b[38;5;28;01mfor\u001b[39;00m i \u001b[38;5;129;01min\u001b[39;00m dataBatch1]\n",
      "Input \u001b[1;32mIn [48]\u001b[0m, in \u001b[0;36m<listcomp>\u001b[1;34m(.0)\u001b[0m\n\u001b[0;32m      1\u001b[0m labels \u001b[38;5;241m=\u001b[39m np\u001b[38;5;241m.\u001b[39marray(upImgs1[\u001b[38;5;124mb\u001b[39m\u001b[38;5;124m'\u001b[39m\u001b[38;5;124mlabels\u001b[39m\u001b[38;5;124m'\u001b[39m])\n\u001b[0;32m      2\u001b[0m label_names \u001b[38;5;241m=\u001b[39m np\u001b[38;5;241m.\u001b[39marray(meta_data[\u001b[38;5;124mb\u001b[39m\u001b[38;5;124m'\u001b[39m\u001b[38;5;124mlabel_names\u001b[39m\u001b[38;5;124m'\u001b[39m])\n\u001b[1;32m----> 3\u001b[0m ImgLabelFeature \u001b[38;5;241m=\u001b[39m [(\u001b[43mfeatures\u001b[49m\u001b[43m[\u001b[49m\u001b[43mi\u001b[49m\u001b[43m]\u001b[49m, label_names[labels[i]]) \u001b[38;5;28;01mfor\u001b[39;00m i \u001b[38;5;129;01min\u001b[39;00m dataBatch1]\n",
      "\u001b[1;31mMemoryError\u001b[0m: Unable to allocate 54.0 MiB for an array with shape (3072, 3, 3, 512) and data type float32"
     ]
    }
   ],
   "source": [
    "labels = np.array(upImgs1[b'labels'])\n",
    "label_names = np.array(meta_data[b'label_names'])\n",
    "ImgLabelFeature = [(features[i], label_names[labels[i]]) for i in dataBatch1]"
   ]
  },
  {
   "cell_type": "code",
   "execution_count": 47,
   "id": "453583e5",
   "metadata": {},
   "outputs": [
    {
     "ename": "IndexError",
     "evalue": "index 10000 is out of bounds for axis 0 with size 10000",
     "output_type": "error",
     "traceback": [
      "\u001b[1;31m---------------------------------------------------------------------------\u001b[0m",
      "\u001b[1;31mIndexError\u001b[0m                                Traceback (most recent call last)",
      "Input \u001b[1;32mIn [47]\u001b[0m, in \u001b[0;36m<cell line: 1>\u001b[1;34m()\u001b[0m\n\u001b[1;32m----> 1\u001b[0m \u001b[43mnp\u001b[49m\u001b[38;5;241;43m.\u001b[39;49m\u001b[43marray\u001b[49m\u001b[43m(\u001b[49m\u001b[43mlabels\u001b[49m\u001b[43m)\u001b[49m\u001b[43m[\u001b[49m\u001b[38;5;241;43m10000\u001b[39;49m\u001b[43m]\u001b[49m\n",
      "\u001b[1;31mIndexError\u001b[0m: index 10000 is out of bounds for axis 0 with size 10000"
     ]
    }
   ],
   "source": [
    "np.array(labels)[10000]"
   ]
  },
  {
   "cell_type": "code",
   "execution_count": null,
   "id": "79d08d89",
   "metadata": {},
   "outputs": [],
   "source": [
    "features = [] # for only databatch1, 10000 images from entire dataset\n",
    "no = 0\n",
    "ImgLabel = [] # consists images with corresponding feature and label\n",
    "for i in dataBatch1:\n",
    "    datasetFeatures = FeatureExtractorSISE().extractSISED(dataBatch1[i, ])\n",
    "    no = no+1\n",
    "    print(no)\n",
    "    features.append(datasetFeatures)"
   ]
  },
  {
   "cell_type": "code",
   "execution_count": null,
   "id": "829c2a75",
   "metadata": {},
   "outputs": [],
   "source": [
    "dists = np.linalg.norm(features-queryFeatures, axis=1) \n",
    "ids = np.argsort(dists)[:8]  # Top 8 results\n",
    "scores = [dists[id] for id in ids]\n",
    "print(scores)"
   ]
  },
  {
   "cell_type": "code",
   "execution_count": 53,
   "id": "b656f6a6",
   "metadata": {},
   "outputs": [
    {
     "data": {
      "text/plain": [
       "array([1, 3, 5, 4, 2, 0], dtype=int64)"
      ]
     },
     "execution_count": 53,
     "metadata": {},
     "output_type": "execute_result"
    }
   ],
   "source": [
    "array = [6, 1, 5, 2, 4, 3]\n",
    "np.argsort(array)"
   ]
  },
  {
   "cell_type": "code",
   "execution_count": 54,
   "id": "5fb70bcf",
   "metadata": {},
   "outputs": [
    {
     "data": {
      "text/plain": [
       "array([1, 3, 5], dtype=int64)"
      ]
     },
     "execution_count": 54,
     "metadata": {},
     "output_type": "execute_result"
    }
   ],
   "source": [
    "np.argsort(array)[:3]"
   ]
  },
  {
   "cell_type": "code",
   "execution_count": 32,
   "id": "fccff16a",
   "metadata": {},
   "outputs": [
    {
     "name": "stdout",
     "output_type": "stream",
     "text": [
      "[(1, array([[[0.        , 0.        , 0.        , ..., 0.        ,\n",
      "         0.        , 0.        ],\n",
      "        [0.        , 0.        , 0.        , ..., 0.        ,\n",
      "         0.        , 0.        ],\n",
      "        [0.        , 0.        , 0.        , ..., 0.        ,\n",
      "         0.00617675, 0.        ]],\n",
      "\n",
      "       [[0.        , 0.        , 0.        , ..., 0.        ,\n",
      "         0.        , 0.        ],\n",
      "        [0.        , 0.        , 0.        , ..., 0.        ,\n",
      "         0.        , 0.        ],\n",
      "        [0.        , 0.        , 0.        , ..., 0.        ,\n",
      "         0.        , 0.        ]],\n",
      "\n",
      "       [[0.        , 0.        , 0.        , ..., 0.        ,\n",
      "         0.        , 0.        ],\n",
      "        [0.        , 0.        , 0.        , ..., 0.        ,\n",
      "         0.        , 0.        ],\n",
      "        [0.        , 0.        , 0.        , ..., 0.        ,\n",
      "         0.        , 0.        ]]], dtype=float32)), (2, 1.2), (3, 1.3), (4, 1.4)]\n"
     ]
    }
   ],
   "source": [
    "arr1 = np.array([1,2,3,4,5])\n",
    "dtype = [('index',int), ('feature',float)]\n",
    "feat = [(1, features[0]), (2, 1.2), (3, 1.3), (4, 1.4)]\n",
    "print(feat)"
   ]
  },
  {
   "cell_type": "code",
   "execution_count": 14,
   "id": "a85e2c12",
   "metadata": {},
   "outputs": [],
   "source": [
    "featr = [(1,features[0]), (2,features[1]), (3,features[2])]\n",
    "# featrs = []\n",
    "# for i in features:\n",
    "#     featrs.append(features[i])"
   ]
  },
  {
   "cell_type": "code",
   "execution_count": 15,
   "id": "c2c64b50",
   "metadata": {},
   "outputs": [
    {
     "ename": "ValueError",
     "evalue": "The truth value of an array with more than one element is ambiguous. Use a.any() or a.all()",
     "output_type": "error",
     "traceback": [
      "\u001b[1;31m---------------------------------------------------------------------------\u001b[0m",
      "\u001b[1;31mValueError\u001b[0m                                Traceback (most recent call last)",
      "Input \u001b[1;32mIn [15]\u001b[0m, in \u001b[0;36m<cell line: 1>\u001b[1;34m()\u001b[0m\n\u001b[1;32m----> 1\u001b[0m \u001b[43mfeatr\u001b[49m\u001b[38;5;241;43m.\u001b[39;49m\u001b[43msort\u001b[49m\u001b[43m(\u001b[49m\u001b[43mkey\u001b[49m\u001b[38;5;241;43m=\u001b[39;49m\u001b[38;5;28;43;01mlambda\u001b[39;49;00m\u001b[43m \u001b[49m\u001b[43mi\u001b[49m\u001b[43m:\u001b[49m\u001b[43mi\u001b[49m\u001b[43m[\u001b[49m\u001b[38;5;241;43m1\u001b[39;49m\u001b[43m]\u001b[49m\u001b[43m)\u001b[49m\n",
      "\u001b[1;31mValueError\u001b[0m: The truth value of an array with more than one element is ambiguous. Use a.any() or a.all()"
     ]
    }
   ],
   "source": [
    "featr.sort(key=lambda i:i[1])"
   ]
  },
  {
   "cell_type": "code",
   "execution_count": null,
   "id": "9dc1a06a",
   "metadata": {},
   "outputs": [],
   "source": [
    "# featr = np.array([features[0], features[1], features[2], features[3], features[4]])"
   ]
  },
  {
   "cell_type": "code",
   "execution_count": 57,
   "id": "1ca2ca31",
   "metadata": {},
   "outputs": [
    {
     "name": "stderr",
     "output_type": "stream",
     "text": [
      "IOPub data rate exceeded.\n",
      "The notebook server will temporarily stop sending output\n",
      "to the client in order to avoid crashing it.\n",
      "To change this limit, set the config variable\n",
      "`--NotebookApp.iopub_data_rate_limit`.\n",
      "\n",
      "Current values:\n",
      "NotebookApp.iopub_data_rate_limit=1000000.0 (bytes/sec)\n",
      "NotebookApp.rate_limit_window=3.0 (secs)\n",
      "\n"
     ]
    }
   ],
   "source": [
    "keys = [i for i in range(0,10000)]\n",
    "values = features\n",
    "myDict = dict(zip(keys,values))\n",
    "print(myDict)"
   ]
  },
  {
   "cell_type": "code",
   "execution_count": 59,
   "id": "1d4a8d1b",
   "metadata": {},
   "outputs": [
    {
     "name": "stdout",
     "output_type": "stream",
     "text": [
      "<zip object at 0x000001EB3B76F380>\n"
     ]
    }
   ],
   "source": [
    "print(zip([1,2,3,4,5],[1,2,3,4,5]))"
   ]
  },
  {
   "cell_type": "code",
   "execution_count": null,
   "id": "f91e8485",
   "metadata": {},
   "outputs": [],
   "source": [
    "a = np.array(feat, dtype=dtype)"
   ]
  },
  {
   "cell_type": "code",
   "execution_count": null,
   "id": "6559c925",
   "metadata": {},
   "outputs": [],
   "source": [
    "np.sort(a, order=['feature'])"
   ]
  },
  {
   "cell_type": "code",
   "execution_count": 14,
   "id": "56501ea4",
   "metadata": {},
   "outputs": [
    {
     "data": {
      "text/plain": [
       "array([[[0.        , 0.        , 0.        , ..., 0.        ,\n",
       "         0.        , 0.        ],\n",
       "        [0.        , 0.        , 0.        , ..., 0.        ,\n",
       "         0.        , 0.        ],\n",
       "        [0.        , 0.        , 0.        , ..., 0.        ,\n",
       "         0.        , 0.        ]],\n",
       "\n",
       "       [[0.        , 0.        , 0.        , ..., 0.        ,\n",
       "         0.        , 0.        ],\n",
       "        [0.        , 0.        , 0.        , ..., 0.        ,\n",
       "         0.        , 0.        ],\n",
       "        [0.        , 0.        , 0.        , ..., 0.        ,\n",
       "         0.        , 0.        ]],\n",
       "\n",
       "       [[0.        , 0.        , 0.        , ..., 0.        ,\n",
       "         0.        , 0.01963366],\n",
       "        [0.        , 0.        , 0.        , ..., 0.        ,\n",
       "         0.        , 0.        ],\n",
       "        [0.        , 0.        , 0.        , ..., 0.        ,\n",
       "         0.        , 0.        ]]], dtype=float32)"
      ]
     },
     "execution_count": 14,
     "metadata": {},
     "output_type": "execute_result"
    }
   ],
   "source": [
    "features[3]"
   ]
  },
  {
   "cell_type": "code",
   "execution_count": 18,
   "id": "ca1e1c61",
   "metadata": {},
   "outputs": [
    {
     "data": {
      "text/plain": [
       "dtype('float64')"
      ]
     },
     "execution_count": 18,
     "metadata": {},
     "output_type": "execute_result"
    }
   ],
   "source": [
    "np.array([1.2,2.5,3,4,5]).dtype"
   ]
  },
  {
   "cell_type": "code",
   "execution_count": 19,
   "id": "0bd5d55e",
   "metadata": {},
   "outputs": [
    {
     "ename": "AttributeError",
     "evalue": "'list' object has no attribute 'dtype'",
     "output_type": "error",
     "traceback": [
      "\u001b[1;31m---------------------------------------------------------------------------\u001b[0m",
      "\u001b[1;31mAttributeError\u001b[0m                            Traceback (most recent call last)",
      "Input \u001b[1;32mIn [19]\u001b[0m, in \u001b[0;36m<cell line: 1>\u001b[1;34m()\u001b[0m\n\u001b[1;32m----> 1\u001b[0m \u001b[43mfeatures\u001b[49m\u001b[38;5;241;43m.\u001b[39;49m\u001b[43mdtype\u001b[49m()\n",
      "\u001b[1;31mAttributeError\u001b[0m: 'list' object has no attribute 'dtype'"
     ]
    }
   ],
   "source": [
    "features.dtype()"
   ]
  },
  {
   "cell_type": "markdown",
   "id": "f8f7e0e4",
   "metadata": {},
   "source": [
    "=========================================="
   ]
  },
  {
   "cell_type": "code",
   "execution_count": 34,
   "id": "5f2e1501",
   "metadata": {},
   "outputs": [],
   "source": [
    "FeatureIndex = [(features[i], i) for i in range(0, 10000)] #list of (np arr, int)"
   ]
  },
  {
   "cell_type": "code",
   "execution_count": 35,
   "id": "26218a42",
   "metadata": {},
   "outputs": [
    {
     "data": {
      "text/plain": [
       "array([0., 0., 0., ..., 0., 0., 0.], dtype=float32)"
      ]
     },
     "execution_count": 35,
     "metadata": {},
     "output_type": "execute_result"
    }
   ],
   "source": [
    "FeatureIndex[2][0]"
   ]
  },
  {
   "cell_type": "code",
   "execution_count": 36,
   "id": "6ac56463",
   "metadata": {},
   "outputs": [],
   "source": [
    "DistIndex = [(np.linalg.norm(FeatureIndex[i][0]-queryFeatures), i) for i in range(0, 10000)] #list of (float, int)"
   ]
  },
  {
   "cell_type": "code",
   "execution_count": 37,
   "id": "ffc47d6f",
   "metadata": {},
   "outputs": [
    {
     "data": {
      "text/plain": [
       "[(0.92842287, 0),\n",
       " (0.9881951, 1),\n",
       " (0.7160374, 2),\n",
       " (0.90834415, 3),\n",
       " (0.86938983, 4),\n",
       " (0.88626695, 5),\n",
       " (0.88551724, 6),\n",
       " (0.9130107, 7),\n",
       " (0.95709413, 8),\n",
       " (1.0192285, 9),\n",
       " (0.87228, 10),\n",
       " (1.0155907, 11),\n",
       " (0.93898773, 12),\n",
       " (0.82252413, 13),\n",
       " (0.8478705, 14),\n",
       " (0.86813545, 15),\n",
       " (0.91991264, 16),\n",
       " (0.9258861, 17),\n",
       " (0.90076643, 18),\n",
       " (0.8580169, 19),\n",
       " (0.96887964, 20),\n",
       " (1.0339993, 21),\n",
       " (1.0261989, 22),\n",
       " (0.9574312, 23),\n",
       " (0.93553877, 24),\n",
       " (0.9227792, 25),\n",
       " (1.0014157, 26),\n",
       " (0.8491726, 27),\n",
       " (0.9796368, 28),\n",
       " (0.9157693, 29),\n",
       " (1.0498672, 30),\n",
       " (0.8264513, 31),\n",
       " (0.93194133, 32),\n",
       " (0.90895855, 33),\n",
       " (0.8591085, 34),\n",
       " (0.95869476, 35),\n",
       " (0.90961313, 36),\n",
       " (0.96272284, 37),\n",
       " (0.8623279, 38),\n",
       " (0.85862416, 39),\n",
       " (0.9822097, 40),\n",
       " (0.9114773, 41),\n",
       " (0.8420463, 42),\n",
       " (0.9131207, 43),\n",
       " (0.9640851, 44),\n",
       " (0.92655283, 45),\n",
       " (0.9292163, 46),\n",
       " (0.95956933, 47),\n",
       " (0.9152781, 48),\n",
       " (0.8660216, 49),\n",
       " (0.8932175, 50),\n",
       " (0.9466315, 51),\n",
       " (0.9249391, 52),\n",
       " (0.8311083, 53),\n",
       " (0.87457883, 54),\n",
       " (0.9413201, 55),\n",
       " (0.86030275, 56),\n",
       " (0.9321186, 57),\n",
       " (1.0222186, 58),\n",
       " (0.95228183, 59),\n",
       " (0.8862624, 60),\n",
       " (0.9785858, 61),\n",
       " (0.85959274, 62),\n",
       " (0.9385185, 63),\n",
       " (0.9834675, 64),\n",
       " (0.98173964, 65),\n",
       " (0.9000366, 66),\n",
       " (0.78841716, 67),\n",
       " (0.9601412, 68),\n",
       " (0.7645333, 69),\n",
       " (0.9436163, 70),\n",
       " (0.97486, 71),\n",
       " (0.95776683, 72),\n",
       " (0.87643987, 73),\n",
       " (0.96549726, 74),\n",
       " (0.91801304, 75),\n",
       " (0.93218946, 76),\n",
       " (0.86316377, 77),\n",
       " (0.8779841, 78),\n",
       " (0.98231816, 79),\n",
       " (0.91551757, 80),\n",
       " (0.96553296, 81),\n",
       " (0.970389, 82),\n",
       " (0.91221565, 83),\n",
       " (1.0113729, 84),\n",
       " (0.90168625, 85),\n",
       " (0.8893169, 86),\n",
       " (0.8963792, 87),\n",
       " (1.0054419, 88),\n",
       " (0.900009, 89),\n",
       " (0.9434312, 90),\n",
       " (0.90753126, 91),\n",
       " (0.96238554, 92),\n",
       " (0.7614999, 93),\n",
       " (0.9043042, 94),\n",
       " (0.911976, 95),\n",
       " (0.88965905, 96),\n",
       " (0.8652426, 97),\n",
       " (0.9188254, 98),\n",
       " (0.9144669, 99),\n",
       " (0.92414355, 100),\n",
       " (0.8771315, 101),\n",
       " (0.9843676, 102),\n",
       " (0.7350687, 103),\n",
       " (0.8352668, 104),\n",
       " (0.95491457, 105),\n",
       " (0.7844054, 106),\n",
       " (0.909668, 107),\n",
       " (0.8999318, 108),\n",
       " (0.8763743, 109),\n",
       " (0.91162163, 110),\n",
       " (0.88937765, 111),\n",
       " (0.89690495, 112),\n",
       " (0.7937925, 113),\n",
       " (0.90632594, 114),\n",
       " (0.7887672, 115),\n",
       " (0.88569725, 116),\n",
       " (0.96910733, 117),\n",
       " (0.9294615, 118),\n",
       " (0.91983026, 119),\n",
       " (1.0076859, 120),\n",
       " (0.9924293, 121),\n",
       " (0.9560523, 122),\n",
       " (0.9954939, 123),\n",
       " (0.89328253, 124),\n",
       " (0.97845566, 125),\n",
       " (0.8784951, 126),\n",
       " (0.93450874, 127),\n",
       " (0.96859676, 128),\n",
       " (0.8957012, 129),\n",
       " (0.95033634, 130),\n",
       " (0.91317695, 131),\n",
       " (0.79733175, 132),\n",
       " (0.86517423, 133),\n",
       " (0.6230308, 134),\n",
       " (0.86542416, 135),\n",
       " (0.966012, 136),\n",
       " (0.85792696, 137),\n",
       " (0.9957097, 138),\n",
       " (0.8965619, 139),\n",
       " (0.95567876, 140),\n",
       " (1.0047426, 141),\n",
       " (0.8861513, 142),\n",
       " (0.95973593, 143),\n",
       " (0.94061786, 144),\n",
       " (0.81154203, 145),\n",
       " (0.9623829, 146),\n",
       " (0.8263064, 147),\n",
       " (0.9070487, 148),\n",
       " (1.0005739, 149),\n",
       " (0.93486047, 150),\n",
       " (0.970642, 151),\n",
       " (0.974474, 152),\n",
       " (0.92537844, 153),\n",
       " (0.888818, 154),\n",
       " (0.97736907, 155),\n",
       " (0.9772251, 156),\n",
       " (0.9606229, 157),\n",
       " (0.87373984, 158),\n",
       " (0.971129, 159),\n",
       " (0.82638, 160),\n",
       " (0.9066151, 161),\n",
       " (0.9030768, 162),\n",
       " (0.9400786, 163),\n",
       " (0.9427617, 164),\n",
       " (0.979155, 165),\n",
       " (0.9603463, 166),\n",
       " (0.91819674, 167),\n",
       " (0.96256816, 168),\n",
       " (0.7896643, 169),\n",
       " (0.80408674, 170),\n",
       " (0.93685937, 171),\n",
       " (0.78633404, 172),\n",
       " (0.90783846, 173),\n",
       " (0.8287405, 174),\n",
       " (1.0124707, 175),\n",
       " (0.920243, 176),\n",
       " (0.92938566, 177),\n",
       " (0.93591475, 178),\n",
       " (0.92290056, 179),\n",
       " (0.8742432, 180),\n",
       " (0.813124, 181),\n",
       " (0.9423843, 182),\n",
       " (0.9349601, 183),\n",
       " (0.9293933, 184),\n",
       " (0.77807856, 185),\n",
       " (0.8929599, 186),\n",
       " (1.027889, 187),\n",
       " (0.77327543, 188),\n",
       " (0.82459724, 189),\n",
       " (0.8329886, 190),\n",
       " (0.84802085, 191),\n",
       " (0.9492666, 192),\n",
       " (0.91819835, 193),\n",
       " (0.9784947, 194),\n",
       " (0.9653825, 195),\n",
       " (0.86316186, 196),\n",
       " (0.9005411, 197),\n",
       " (0.80873215, 198),\n",
       " (0.8924946, 199),\n",
       " (1.0222535, 200),\n",
       " (0.87188655, 201),\n",
       " (0.8220797, 202),\n",
       " (0.92680615, 203),\n",
       " (0.96777123, 204),\n",
       " (0.98609585, 205),\n",
       " (0.9685484, 206),\n",
       " (0.9601832, 207),\n",
       " (0.9217272, 208),\n",
       " (0.7439316, 209),\n",
       " (0.9908745, 210),\n",
       " (1.0031353, 211),\n",
       " (0.95456064, 212),\n",
       " (0.8459163, 213),\n",
       " (0.98118186, 214),\n",
       " (0.8835338, 215),\n",
       " (0.736805, 216),\n",
       " (0.82936496, 217),\n",
       " (0.9211132, 218),\n",
       " (0.8890258, 219),\n",
       " (0.81631094, 220),\n",
       " (0.852259, 221),\n",
       " (0.8671319, 222),\n",
       " (0.92486006, 223),\n",
       " (0.96795887, 224),\n",
       " (0.9485541, 225),\n",
       " (0.87294567, 226),\n",
       " (0.96178234, 227),\n",
       " (0.9397827, 228),\n",
       " (0.8615081, 229),\n",
       " (0.9379383, 230),\n",
       " (0.9464674, 231),\n",
       " (0.9599936, 232),\n",
       " (0.8641922, 233),\n",
       " (0.9740602, 234),\n",
       " (0.93243456, 235),\n",
       " (0.8388998, 236),\n",
       " (0.98834276, 237),\n",
       " (0.9161148, 238),\n",
       " (0.9692925, 239),\n",
       " (0.89031404, 240),\n",
       " (1.0040809, 241),\n",
       " (0.9306836, 242),\n",
       " (0.8408136, 243),\n",
       " (0.7239914, 244),\n",
       " (0.95211196, 245),\n",
       " (1.0130255, 246),\n",
       " (0.97034436, 247),\n",
       " (0.9561657, 248),\n",
       " (0.9416991, 249),\n",
       " (1.0045254, 250),\n",
       " (0.87338793, 251),\n",
       " (0.8244508, 252),\n",
       " (0.9161949, 253),\n",
       " (0.9723886, 254),\n",
       " (0.9188885, 255),\n",
       " (0.98889565, 256),\n",
       " (0.9028829, 257),\n",
       " (0.87773085, 258),\n",
       " (0.92079854, 259),\n",
       " (0.9862934, 260),\n",
       " (0.88768804, 261),\n",
       " (0.9772929, 262),\n",
       " (0.90096384, 263),\n",
       " (0.91307765, 264),\n",
       " (0.8597965, 265),\n",
       " (1.0085341, 266),\n",
       " (0.9365127, 267),\n",
       " (0.89683455, 268),\n",
       " (0.98486555, 269),\n",
       " (0.93355185, 270),\n",
       " (0.92090386, 271),\n",
       " (0.80311954, 272),\n",
       " (0.9393331, 273),\n",
       " (0.9437456, 274),\n",
       " (0.9450313, 275),\n",
       " (0.96855384, 276),\n",
       " (0.879193, 277),\n",
       " (0.8673223, 278),\n",
       " (0.9412593, 279),\n",
       " (0.75701815, 280),\n",
       " (0.9926024, 281),\n",
       " (0.8948409, 282),\n",
       " (0.86592895, 283),\n",
       " (0.8539815, 284),\n",
       " (1.0020583, 285),\n",
       " (0.94762886, 286),\n",
       " (0.9791251, 287),\n",
       " (0.9501534, 288),\n",
       " (0.8120558, 289),\n",
       " (0.96824586, 290),\n",
       " (0.89163095, 291),\n",
       " (0.8339884, 292),\n",
       " (0.9114852, 293),\n",
       " (0.8963407, 294),\n",
       " (0.9833885, 295),\n",
       " (0.84726465, 296),\n",
       " (0.90782756, 297),\n",
       " (1.0067704, 298),\n",
       " (0.8955435, 299),\n",
       " (1.0098687, 300),\n",
       " (0.9438844, 301),\n",
       " (0.87129027, 302),\n",
       " (0.90291667, 303),\n",
       " (0.8916444, 304),\n",
       " (0.8559293, 305),\n",
       " (0.8747952, 306),\n",
       " (0.928741, 307),\n",
       " (0.96275246, 308),\n",
       " (0.8329537, 309),\n",
       " (0.9624003, 310),\n",
       " (0.96849436, 311),\n",
       " (1.0458658, 312),\n",
       " (0.99059254, 313),\n",
       " (1.0680666, 314),\n",
       " (0.86113876, 315),\n",
       " (0.8527871, 316),\n",
       " (0.9060307, 317),\n",
       " (0.9026471, 318),\n",
       " (0.901163, 319),\n",
       " (0.92924005, 320),\n",
       " (0.8330774, 321),\n",
       " (0.8931815, 322),\n",
       " (0.6511363, 323),\n",
       " (0.8931229, 324),\n",
       " (0.84724236, 325),\n",
       " (0.9683983, 326),\n",
       " (0.9094154, 327),\n",
       " (0.8432974, 328),\n",
       " (0.944888, 329),\n",
       " (0.8315591, 330),\n",
       " (0.87993366, 331),\n",
       " (0.9025282, 332),\n",
       " (0.98594874, 333),\n",
       " (0.93440366, 334),\n",
       " (0.90314263, 335),\n",
       " (0.9655896, 336),\n",
       " (0.9082137, 337),\n",
       " (0.9094219, 338),\n",
       " (0.8698136, 339),\n",
       " (0.9767285, 340),\n",
       " (0.75239116, 341),\n",
       " (0.928225, 342),\n",
       " (0.9467098, 343),\n",
       " (0.8400869, 344),\n",
       " (1.0372876, 345),\n",
       " (0.9775712, 346),\n",
       " (1.0311065, 347),\n",
       " (0.9863479, 348),\n",
       " (0.85616773, 349),\n",
       " (0.88883376, 350),\n",
       " (0.94756263, 351),\n",
       " (0.82869804, 352),\n",
       " (1.0067055, 353),\n",
       " (0.92728436, 354),\n",
       " (0.83459824, 355),\n",
       " (0.91362184, 356),\n",
       " (0.95035565, 357),\n",
       " (0.93344414, 358),\n",
       " (0.8387854, 359),\n",
       " (0.8799053, 360),\n",
       " (0.9187368, 361),\n",
       " (0.90926033, 362),\n",
       " (0.95364577, 363),\n",
       " (0.9324154, 364),\n",
       " (0.8584126, 365),\n",
       " (0.840428, 366),\n",
       " (0.8696266, 367),\n",
       " (0.88102275, 368),\n",
       " (0.92233264, 369),\n",
       " (0.7571225, 370),\n",
       " (0.7918888, 371),\n",
       " (0.96523017, 372),\n",
       " (0.86535853, 373),\n",
       " (0.93609226, 374),\n",
       " (0.8276987, 375),\n",
       " (0.92500246, 376),\n",
       " (0.84432983, 377),\n",
       " (0.9333651, 378),\n",
       " (0.8637507, 379),\n",
       " (0.88329023, 380),\n",
       " (0.9016793, 381),\n",
       " (0.9248683, 382),\n",
       " (0.8113441, 383),\n",
       " (0.83598685, 384),\n",
       " (0.9407936, 385),\n",
       " (0.8928438, 386),\n",
       " (0.9170241, 387),\n",
       " (0.8374552, 388),\n",
       " (0.9781448, 389),\n",
       " (0.8884398, 390),\n",
       " (0.9256675, 391),\n",
       " (0.9637804, 392),\n",
       " (0.8630285, 393),\n",
       " (0.9541551, 394),\n",
       " (0.8629251, 395),\n",
       " (0.96624726, 396),\n",
       " (0.9678797, 397),\n",
       " (0.89468646, 398),\n",
       " (0.8303143, 399),\n",
       " (0.94295144, 400),\n",
       " (0.9184699, 401),\n",
       " (0.81714183, 402),\n",
       " (0.97974145, 403),\n",
       " (0.88626736, 404),\n",
       " (0.8733087, 405),\n",
       " (0.9154998, 406),\n",
       " (0.86328346, 407),\n",
       " (0.95040816, 408),\n",
       " (0.91202074, 409),\n",
       " (0.92981637, 410),\n",
       " (0.9826942, 411),\n",
       " (0.99565756, 412),\n",
       " (0.81388736, 413),\n",
       " (1.0022044, 414),\n",
       " (0.92248523, 415),\n",
       " (1.0363073, 416),\n",
       " (0.9498407, 417),\n",
       " (0.9910183, 418),\n",
       " (0.93676704, 419),\n",
       " (0.89090866, 420),\n",
       " (0.8840135, 421),\n",
       " (0.9179295, 422),\n",
       " (0.91407627, 423),\n",
       " (0.86616874, 424),\n",
       " (0.8627492, 425),\n",
       " (0.9384181, 426),\n",
       " (0.94811696, 427),\n",
       " (0.9756619, 428),\n",
       " (0.9166737, 429),\n",
       " (0.87665135, 430),\n",
       " (0.9416795, 431),\n",
       " (0.81912404, 432),\n",
       " (0.96382695, 433),\n",
       " (0.9867726, 434),\n",
       " (1.0164484, 435),\n",
       " (0.88793516, 436),\n",
       " (0.9081821, 437),\n",
       " (0.8715179, 438),\n",
       " (0.9688671, 439),\n",
       " (0.9566224, 440),\n",
       " (0.84139603, 441),\n",
       " (0.97123986, 442),\n",
       " (0.9612801, 443),\n",
       " (0.9318433, 444),\n",
       " (0.93940604, 445),\n",
       " (0.8632003, 446),\n",
       " (0.9469438, 447),\n",
       " (1.0153526, 448),\n",
       " (0.8905784, 449),\n",
       " (0.96747816, 450),\n",
       " (0.8937613, 451),\n",
       " (0.86316144, 452),\n",
       " (0.8650968, 453),\n",
       " (0.9774501, 454),\n",
       " (0.8790773, 455),\n",
       " (0.9790763, 456),\n",
       " (0.90500325, 457),\n",
       " (0.85375696, 458),\n",
       " (0.84513736, 459),\n",
       " (0.95232964, 460),\n",
       " (0.70902103, 461),\n",
       " (0.95395535, 462),\n",
       " (0.9473045, 463),\n",
       " (0.888856, 464),\n",
       " (0.9315918, 465),\n",
       " (0.9435899, 466),\n",
       " (1.040234, 467),\n",
       " (0.9379042, 468),\n",
       " (0.8435246, 469),\n",
       " (1.0177586, 470),\n",
       " (0.8935518, 471),\n",
       " (0.88984734, 472),\n",
       " (0.8852495, 473),\n",
       " (0.9866485, 474),\n",
       " (0.83989304, 475),\n",
       " (0.8848579, 476),\n",
       " (0.99753165, 477),\n",
       " (0.9302378, 478),\n",
       " (0.8774691, 479),\n",
       " (0.78285015, 480),\n",
       " (0.7435204, 481),\n",
       " (0.8969147, 482),\n",
       " (0.8048875, 483),\n",
       " (0.89210415, 484),\n",
       " (0.9372236, 485),\n",
       " (0.89764965, 486),\n",
       " (0.8446944, 487),\n",
       " (0.99195147, 488),\n",
       " (0.8969523, 489),\n",
       " (0.92086196, 490),\n",
       " (0.8920978, 491),\n",
       " (0.8552613, 492),\n",
       " (0.98319936, 493),\n",
       " (0.91915596, 494),\n",
       " (0.832814, 495),\n",
       " (0.929333, 496),\n",
       " (0.9271278, 497),\n",
       " (0.9849557, 498),\n",
       " (0.92642885, 499),\n",
       " (1.0513026, 500),\n",
       " (0.9639808, 501),\n",
       " (0.91688555, 502),\n",
       " (0.8649737, 503),\n",
       " (0.9788349, 504),\n",
       " (0.86085224, 505),\n",
       " (0.8602707, 506),\n",
       " (0.88552374, 507),\n",
       " (0.9547962, 508),\n",
       " (0.9565273, 509),\n",
       " (0.8238178, 510),\n",
       " (0.90124327, 511),\n",
       " (0.9494411, 512),\n",
       " (0.92514616, 513),\n",
       " (0.91452706, 514),\n",
       " (0.98390085, 515),\n",
       " (0.844353, 516),\n",
       " (0.8986435, 517),\n",
       " (0.935973, 518),\n",
       " (0.90484565, 519),\n",
       " (0.8745808, 520),\n",
       " (0.9401257, 521),\n",
       " (0.78195256, 522),\n",
       " (0.9281255, 523),\n",
       " (0.99879986, 524),\n",
       " (0.944479, 525),\n",
       " (0.84783113, 526),\n",
       " (0.8405338, 527),\n",
       " (0.9011096, 528),\n",
       " (0.9279106, 529),\n",
       " (0.92740464, 530),\n",
       " (0.97949535, 531),\n",
       " (0.85842973, 532),\n",
       " (0.9133752, 533),\n",
       " (0.94207054, 534),\n",
       " (0.82029235, 535),\n",
       " (0.8661768, 536),\n",
       " (0.8716783, 537),\n",
       " (0.87076914, 538),\n",
       " (0.70018953, 539),\n",
       " (0.9681594, 540),\n",
       " (0.93987346, 541),\n",
       " (0.97269696, 542),\n",
       " (0.939827, 543),\n",
       " (0.9298856, 544),\n",
       " (0.8582905, 545),\n",
       " (0.9628697, 546),\n",
       " (0.9571133, 547),\n",
       " (0.916054, 548),\n",
       " (0.8712185, 549),\n",
       " (0.94635, 550),\n",
       " (0.94949853, 551),\n",
       " (0.8699791, 552),\n",
       " (0.97308266, 553),\n",
       " (0.8955508, 554),\n",
       " (0.92244315, 555),\n",
       " (0.9121076, 556),\n",
       " (0.90819865, 557),\n",
       " (0.9060796, 558),\n",
       " (0.9631261, 559),\n",
       " (0.8784097, 560),\n",
       " (0.9053756, 561),\n",
       " (0.91298366, 562),\n",
       " (0.94275355, 563),\n",
       " (0.70836675, 564),\n",
       " (0.9411249, 565),\n",
       " (0.932543, 566),\n",
       " (0.9180453, 567),\n",
       " (0.9189248, 568),\n",
       " (0.87133586, 569),\n",
       " (0.8829068, 570),\n",
       " (0.8843701, 571),\n",
       " (0.92071223, 572),\n",
       " (0.8444383, 573),\n",
       " (0.84904796, 574),\n",
       " (0.96346843, 575),\n",
       " (0.982233, 576),\n",
       " (1.0104657, 577),\n",
       " (0.92895967, 578),\n",
       " (0.80127186, 579),\n",
       " (0.9861652, 580),\n",
       " (1.0054865, 581),\n",
       " (0.94374084, 582),\n",
       " (0.9832914, 583),\n",
       " (0.99765646, 584),\n",
       " (0.8574889, 585),\n",
       " (0.9518608, 586),\n",
       " (0.91850686, 587),\n",
       " (0.70539194, 588),\n",
       " (0.9706397, 589),\n",
       " (0.91337585, 590),\n",
       " (0.88632226, 591),\n",
       " (0.8431461, 592),\n",
       " (0.94136286, 593),\n",
       " (0.9424459, 594),\n",
       " (0.948115, 595),\n",
       " (0.87382853, 596),\n",
       " (0.8410883, 597),\n",
       " (0.77950513, 598),\n",
       " (0.89166963, 599),\n",
       " (0.9401513, 600),\n",
       " (0.9536501, 601),\n",
       " (0.97454065, 602),\n",
       " (0.93611884, 603),\n",
       " (0.8235917, 604),\n",
       " (0.85556155, 605),\n",
       " (0.9409709, 606),\n",
       " (0.907809, 607),\n",
       " (0.8985948, 608),\n",
       " (0.82519126, 609),\n",
       " (0.94939387, 610),\n",
       " (1.0012368, 611),\n",
       " (0.9750855, 612),\n",
       " (0.9612528, 613),\n",
       " (0.9692173, 614),\n",
       " (0.9658895, 615),\n",
       " (0.88422006, 616),\n",
       " (0.90685254, 617),\n",
       " (0.9050328, 618),\n",
       " (0.930505, 619),\n",
       " (0.97356015, 620),\n",
       " (0.85971445, 621),\n",
       " (0.9432033, 622),\n",
       " (1.0677351, 623),\n",
       " (0.9659486, 624),\n",
       " (0.9545479, 625),\n",
       " (0.97565484, 626),\n",
       " (0.843597, 627),\n",
       " (0.9810008, 628),\n",
       " (0.8765148, 629),\n",
       " (0.92873794, 630),\n",
       " (0.91859025, 631),\n",
       " (0.96467435, 632),\n",
       " (0.89497924, 633),\n",
       " (0.9352716, 634),\n",
       " (1.0197511, 635),\n",
       " (0.9733953, 636),\n",
       " (0.78898656, 637),\n",
       " (1.0059502, 638),\n",
       " (0.88936645, 639),\n",
       " (0.9382164, 640),\n",
       " (0.9331334, 641),\n",
       " (0.9079864, 642),\n",
       " (0.8978086, 643),\n",
       " (0.849489, 644),\n",
       " (0.90286374, 645),\n",
       " (0.958879, 646),\n",
       " (0.8256608, 647),\n",
       " (0.9148133, 648),\n",
       " (0.99876696, 649),\n",
       " (0.8009901, 650),\n",
       " (0.86949724, 651),\n",
       " (0.9635372, 652),\n",
       " (0.7583672, 653),\n",
       " (0.9559667, 654),\n",
       " (0.949725, 655),\n",
       " (0.96449804, 656),\n",
       " (0.9629962, 657),\n",
       " (0.899691, 658),\n",
       " (0.9036923, 659),\n",
       " (0.89808965, 660),\n",
       " (0.9689099, 661),\n",
       " (0.8857716, 662),\n",
       " (0.84868544, 663),\n",
       " (0.90915054, 664),\n",
       " (0.9672553, 665),\n",
       " (0.9680694, 666),\n",
       " (0.9872041, 667),\n",
       " (1.0041292, 668),\n",
       " (0.88852024, 669),\n",
       " (0.94130504, 670),\n",
       " (0.8478501, 671),\n",
       " (0.91673326, 672),\n",
       " (0.91760993, 673),\n",
       " (0.99859786, 674),\n",
       " (0.9726058, 675),\n",
       " (0.9384713, 676),\n",
       " (0.94868654, 677),\n",
       " (0.89317256, 678),\n",
       " (0.9671872, 679),\n",
       " (0.8664016, 680),\n",
       " (1.0041822, 681),\n",
       " (0.77726007, 682),\n",
       " (0.83355135, 683),\n",
       " (0.9993898, 684),\n",
       " (0.9805401, 685),\n",
       " (0.8723085, 686),\n",
       " (0.9099278, 687),\n",
       " (0.881202, 688),\n",
       " (0.94363874, 689),\n",
       " (0.9477769, 690),\n",
       " (0.8317265, 691),\n",
       " (0.9084677, 692),\n",
       " (0.96425265, 693),\n",
       " (0.9558373, 694),\n",
       " (0.75848943, 695),\n",
       " (0.9755253, 696),\n",
       " (0.9349103, 697),\n",
       " (0.87145126, 698),\n",
       " (0.9411107, 699),\n",
       " (0.9232146, 700),\n",
       " (0.90041107, 701),\n",
       " (0.90981543, 702),\n",
       " (1.0167999, 703),\n",
       " (0.9584102, 704),\n",
       " (0.98562944, 705),\n",
       " (0.7834915, 706),\n",
       " (0.9863358, 707),\n",
       " (0.845486, 708),\n",
       " (0.9680902, 709),\n",
       " (0.92462313, 710),\n",
       " (0.8888208, 711),\n",
       " (0.86983556, 712),\n",
       " (0.97926116, 713),\n",
       " (0.9538072, 714),\n",
       " (0.89088875, 715),\n",
       " (0.9094556, 716),\n",
       " (0.8558855, 717),\n",
       " (0.9849785, 718),\n",
       " (1.0220926, 719),\n",
       " (0.948381, 720),\n",
       " (0.8478097, 721),\n",
       " (1.0307448, 722),\n",
       " (0.93822217, 723),\n",
       " (0.8896499, 724),\n",
       " (0.9943847, 725),\n",
       " (0.94472474, 726),\n",
       " (0.95254546, 727),\n",
       " (0.9725661, 728),\n",
       " (0.87841505, 729),\n",
       " (0.8804301, 730),\n",
       " (0.8682777, 731),\n",
       " (0.98885465, 732),\n",
       " (0.8973633, 733),\n",
       " (0.879287, 734),\n",
       " (0.9604604, 735),\n",
       " (0.9759365, 736),\n",
       " (0.9526762, 737),\n",
       " (0.9227476, 738),\n",
       " (0.8616803, 739),\n",
       " (0.95474887, 740),\n",
       " (0.8684696, 741),\n",
       " (0.9615276, 742),\n",
       " (0.87714916, 743),\n",
       " (0.9125766, 744),\n",
       " (0.9598995, 745),\n",
       " (0.9374268, 746),\n",
       " (1.0041875, 747),\n",
       " (0.8741385, 748),\n",
       " (0.8963458, 749),\n",
       " (0.8819641, 750),\n",
       " (1.0079135, 751),\n",
       " (0.99416167, 752),\n",
       " (0.91129345, 753),\n",
       " (0.77805346, 754),\n",
       " (0.93785924, 755),\n",
       " (1.0042764, 756),\n",
       " (0.90488183, 757),\n",
       " (0.9911144, 758),\n",
       " (0.9056113, 759),\n",
       " (1.0098372, 760),\n",
       " (0.92386985, 761),\n",
       " (0.91390884, 762),\n",
       " (0.75056213, 763),\n",
       " (0.9066239, 764),\n",
       " (0.8887645, 765),\n",
       " (1.0420561, 766),\n",
       " (0.9350939, 767),\n",
       " (0.9429324, 768),\n",
       " (0.9539773, 769),\n",
       " (0.96142125, 770),\n",
       " (0.9600214, 771),\n",
       " (0.89719015, 772),\n",
       " (0.9616084, 773),\n",
       " (0.9574966, 774),\n",
       " (0.9032624, 775),\n",
       " (0.91246015, 776),\n",
       " (0.94826216, 777),\n",
       " (0.95260733, 778),\n",
       " (0.98595715, 779),\n",
       " (0.9486291, 780),\n",
       " (0.9530184, 781),\n",
       " (0.8752696, 782),\n",
       " (0.8757916, 783),\n",
       " (0.94287395, 784),\n",
       " (0.88307875, 785),\n",
       " (0.8292882, 786),\n",
       " (0.9532241, 787),\n",
       " (0.9481723, 788),\n",
       " (0.8544773, 789),\n",
       " (0.79138935, 790),\n",
       " (0.8783455, 791),\n",
       " (0.863758, 792),\n",
       " (0.93786806, 793),\n",
       " (0.94794625, 794),\n",
       " (1.0256127, 795),\n",
       " (0.83283573, 796),\n",
       " (0.9145501, 797),\n",
       " (1.0233876, 798),\n",
       " (0.9204475, 799),\n",
       " (0.91923195, 800),\n",
       " (0.911665, 801),\n",
       " (1.0704547, 802),\n",
       " (0.91497266, 803),\n",
       " (0.97412246, 804),\n",
       " (0.8767237, 805),\n",
       " (0.95653176, 806),\n",
       " (0.8779146, 807),\n",
       " (0.9818856, 808),\n",
       " (1.0130807, 809),\n",
       " (0.97439694, 810),\n",
       " (0.90194035, 811),\n",
       " (0.95695376, 812),\n",
       " (0.87274784, 813),\n",
       " (0.9113391, 814),\n",
       " (0.9387268, 815),\n",
       " (0.7597325, 816),\n",
       " (0.96081257, 817),\n",
       " (0.88851786, 818),\n",
       " (0.8900885, 819),\n",
       " (0.7735594, 820),\n",
       " (0.95712703, 821),\n",
       " (0.8338973, 822),\n",
       " (1.0234517, 823),\n",
       " (0.9331872, 824),\n",
       " (0.94725394, 825),\n",
       " (0.9515197, 826),\n",
       " (0.9254116, 827),\n",
       " (0.88547677, 828),\n",
       " (0.94841874, 829),\n",
       " (0.93704855, 830),\n",
       " (1.0105805, 831),\n",
       " (0.9298695, 832),\n",
       " (0.9129595, 833),\n",
       " (0.9499089, 834),\n",
       " (0.94773185, 835),\n",
       " (0.9441756, 836),\n",
       " (0.87118834, 837),\n",
       " (0.9669945, 838),\n",
       " (0.9199526, 839),\n",
       " (0.96971154, 840),\n",
       " (0.895879, 841),\n",
       " (0.9064176, 842),\n",
       " (0.92172796, 843),\n",
       " (0.8591843, 844),\n",
       " (0.91359985, 845),\n",
       " (1.0544238, 846),\n",
       " (0.9012218, 847),\n",
       " (0.8919015, 848),\n",
       " (0.98673576, 849),\n",
       " (0.85861087, 850),\n",
       " (0.931088, 851),\n",
       " (0.8903342, 852),\n",
       " (0.9867721, 853),\n",
       " (0.8722929, 854),\n",
       " (0.8308943, 855),\n",
       " (0.9788588, 856),\n",
       " (0.8147991, 857),\n",
       " (0.90737665, 858),\n",
       " (0.9556156, 859),\n",
       " (0.76386184, 860),\n",
       " (0.94675136, 861),\n",
       " (0.77844954, 862),\n",
       " (0.8863771, 863),\n",
       " (0.9958253, 864),\n",
       " (1.0055265, 865),\n",
       " (0.932576, 866),\n",
       " (0.7921875, 867),\n",
       " (0.9907887, 868),\n",
       " (0.9475537, 869),\n",
       " (0.8291427, 870),\n",
       " (0.85456866, 871),\n",
       " (0.84113884, 872),\n",
       " (0.92857033, 873),\n",
       " (0.87709934, 874),\n",
       " (0.84410983, 875),\n",
       " (0.82551265, 876),\n",
       " (0.9026926, 877),\n",
       " (0.9090389, 878),\n",
       " (0.89774275, 879),\n",
       " (0.9477506, 880),\n",
       " (0.9531804, 881),\n",
       " (0.9033843, 882),\n",
       " (0.9740732, 883),\n",
       " (0.93827903, 884),\n",
       " (0.9563123, 885),\n",
       " (0.94667196, 886),\n",
       " (0.9118814, 887),\n",
       " (0.87720287, 888),\n",
       " (0.9026564, 889),\n",
       " (0.86453396, 890),\n",
       " (0.89403325, 891),\n",
       " (0.80989546, 892),\n",
       " (0.9554302, 893),\n",
       " (0.88291687, 894),\n",
       " (0.97402173, 895),\n",
       " (0.9909039, 896),\n",
       " (0.9601376, 897),\n",
       " (0.84749854, 898),\n",
       " (0.9904778, 899),\n",
       " (1.0134771, 900),\n",
       " (0.9370149, 901),\n",
       " (0.9754629, 902),\n",
       " (0.8901239, 903),\n",
       " (0.9414569, 904),\n",
       " (0.9367956, 905),\n",
       " (0.77157885, 906),\n",
       " (0.95730615, 907),\n",
       " (0.8920642, 908),\n",
       " (0.9777866, 909),\n",
       " (0.7803751, 910),\n",
       " (0.6953709, 911),\n",
       " (0.9650257, 912),\n",
       " (0.88630956, 913),\n",
       " (0.9135366, 914),\n",
       " (0.81592244, 915),\n",
       " (0.8000344, 916),\n",
       " (0.9715272, 917),\n",
       " (0.9199231, 918),\n",
       " (0.9090644, 919),\n",
       " (0.8819547, 920),\n",
       " (0.96928215, 921),\n",
       " (0.9430196, 922),\n",
       " (0.90896654, 923),\n",
       " (0.90476, 924),\n",
       " (0.8401973, 925),\n",
       " (0.90789205, 926),\n",
       " (0.9571646, 927),\n",
       " (0.8255905, 928),\n",
       " (1.0545328, 929),\n",
       " (0.939892, 930),\n",
       " (0.81454426, 931),\n",
       " (0.9241817, 932),\n",
       " (0.78347415, 933),\n",
       " (0.92359155, 934),\n",
       " (0.8876617, 935),\n",
       " (0.9756246, 936),\n",
       " (0.90459794, 937),\n",
       " (0.9498557, 938),\n",
       " (0.9989613, 939),\n",
       " (0.87224627, 940),\n",
       " (0.9817886, 941),\n",
       " (0.9416946, 942),\n",
       " (0.8814166, 943),\n",
       " (0.9841217, 944),\n",
       " (0.7926543, 945),\n",
       " (0.8841386, 946),\n",
       " (0.9791065, 947),\n",
       " (0.99511504, 948),\n",
       " (0.9151674, 949),\n",
       " (0.96880776, 950),\n",
       " (0.94435674, 951),\n",
       " (0.9752913, 952),\n",
       " (0.97932863, 953),\n",
       " (0.8956193, 954),\n",
       " (0.869734, 955),\n",
       " (0.9280807, 956),\n",
       " (0.81586194, 957),\n",
       " (0.8940314, 958),\n",
       " (0.95142365, 959),\n",
       " (0.8868727, 960),\n",
       " (0.8708682, 961),\n",
       " (0.8491624, 962),\n",
       " (0.8273008, 963),\n",
       " (0.9636855, 964),\n",
       " (0.84248865, 965),\n",
       " (0.9031793, 966),\n",
       " (1.0335773, 967),\n",
       " (0.91382885, 968),\n",
       " (0.89560527, 969),\n",
       " (1.0450459, 970),\n",
       " (0.89373523, 971),\n",
       " (0.7990947, 972),\n",
       " (0.9934629, 973),\n",
       " (0.9192099, 974),\n",
       " (0.9689421, 975),\n",
       " (0.81131476, 976),\n",
       " (0.6899831, 977),\n",
       " (0.9622352, 978),\n",
       " (0.9579874, 979),\n",
       " (0.9297002, 980),\n",
       " (0.9759576, 981),\n",
       " (0.9522379, 982),\n",
       " (0.95071745, 983),\n",
       " (0.94602257, 984),\n",
       " (0.98871714, 985),\n",
       " (1.0211066, 986),\n",
       " (0.8777325, 987),\n",
       " (0.9455243, 988),\n",
       " (0.785562, 989),\n",
       " (0.9961478, 990),\n",
       " (0.93716604, 991),\n",
       " (0.95052224, 992),\n",
       " (0.91988325, 993),\n",
       " (0.9422061, 994),\n",
       " (0.8855254, 995),\n",
       " (0.8207038, 996),\n",
       " (0.96484184, 997),\n",
       " (0.7342503, 998),\n",
       " (0.9098137, 999),\n",
       " ...]"
      ]
     },
     "execution_count": 37,
     "metadata": {},
     "output_type": "execute_result"
    }
   ],
   "source": [
    "DistIndex"
   ]
  },
  {
   "cell_type": "code",
   "execution_count": 17,
   "id": "47af602e",
   "metadata": {},
   "outputs": [
    {
     "ename": "AttributeError",
     "evalue": "'list' object has no attribute 'shape'",
     "output_type": "error",
     "traceback": [
      "\u001b[1;31m---------------------------------------------------------------------------\u001b[0m",
      "\u001b[1;31mAttributeError\u001b[0m                            Traceback (most recent call last)",
      "Input \u001b[1;32mIn [17]\u001b[0m, in \u001b[0;36m<cell line: 1>\u001b[1;34m()\u001b[0m\n\u001b[1;32m----> 1\u001b[0m \u001b[43mDistIndex\u001b[49m\u001b[38;5;241;43m.\u001b[39;49m\u001b[43mshape\u001b[49m\n",
      "\u001b[1;31mAttributeError\u001b[0m: 'list' object has no attribute 'shape'"
     ]
    }
   ],
   "source": [
    "DistIndex.shape"
   ]
  },
  {
   "cell_type": "code",
   "execution_count": 38,
   "id": "9c8e7ef4",
   "metadata": {},
   "outputs": [],
   "source": [
    "Dists_only = [(DistIndex[i][0]) for i in range(0, 10000)]"
   ]
  },
  {
   "cell_type": "code",
   "execution_count": null,
   "id": "2eb4ee77",
   "metadata": {},
   "outputs": [],
   "source": [
    "Dists_only"
   ]
  },
  {
   "cell_type": "code",
   "execution_count": 40,
   "id": "b883ade5",
   "metadata": {},
   "outputs": [
    {
     "data": {
      "text/plain": [
       "array([0.92842287, 0.9881951 , 0.7160374 , ..., 0.98775613, 0.8804952 ,\n",
       "       1.0019138 ], dtype=float32)"
      ]
     },
     "execution_count": 40,
     "metadata": {},
     "output_type": "execute_result"
    }
   ],
   "source": [
    "Dists_only = np.asarray(Dists_only)\n",
    "Dists_only"
   ]
  },
  {
   "cell_type": "code",
   "execution_count": 41,
   "id": "b68951b4",
   "metadata": {},
   "outputs": [],
   "source": [
    "sorted_Dists_only = np.argsort(Dists_only)"
   ]
  },
  {
   "cell_type": "code",
   "execution_count": 42,
   "id": "a7f8429b",
   "metadata": {},
   "outputs": [
    {
     "data": {
      "text/plain": [
       "(10000,)"
      ]
     },
     "execution_count": 42,
     "metadata": {},
     "output_type": "execute_result"
    }
   ],
   "source": [
    "sorted_Dists_only.shape"
   ]
  },
  {
   "cell_type": "code",
   "execution_count": 43,
   "id": "8fdd9b36",
   "metadata": {},
   "outputs": [
    {
     "data": {
      "text/plain": [
       "array([2814, 9221, 4688, ..., 3409, 4169, 8919], dtype=int64)"
      ]
     },
     "execution_count": 43,
     "metadata": {},
     "output_type": "execute_result"
    }
   ],
   "source": [
    "sorted_Dists_only"
   ]
  },
  {
   "cell_type": "code",
   "execution_count": 44,
   "id": "e20071d8",
   "metadata": {},
   "outputs": [
    {
     "name": "stdout",
     "output_type": "stream",
     "text": [
      "2814 0.5213002\n",
      "9221 0.57640857\n",
      "4688 0.5900769\n",
      "1977 0.6031929\n",
      "6329 0.6077309\n",
      "1787 0.6165984\n",
      "5010 0.61733526\n",
      "7531 0.61929125\n"
     ]
    }
   ],
   "source": [
    "for i in range(0, 8):\n",
    "    print(sorted_Dists_only[i], Dists_only[sorted_Dists_only[i]])"
   ]
  },
  {
   "cell_type": "code",
   "execution_count": 47,
   "id": "2175d737",
   "metadata": {},
   "outputs": [
    {
     "name": "stdout",
     "output_type": "stream",
     "text": [
      "0.5213002\n",
      "0.57640857\n",
      "0.5900769\n",
      "0.6031929\n",
      "0.6077309\n",
      "0.6165984\n",
      "0.61733526\n",
      "0.61929125\n"
     ]
    }
   ],
   "source": [
    "print(Dists_only[2814])\n",
    "print(Dists_only[9221])\n",
    "print(Dists_only[4688])\n",
    "print(Dists_only[1977])\n",
    "print(Dists_only[6329])\n",
    "print(Dists_only[1787])\n",
    "print(Dists_only[5010])\n",
    "print(Dists_only[7531])"
   ]
  },
  {
   "cell_type": "code",
   "execution_count": 19,
   "id": "b72043d7",
   "metadata": {},
   "outputs": [
    {
     "name": "stdout",
     "output_type": "stream",
     "text": [
      "1.312777\n"
     ]
    }
   ],
   "source": [
    "print(Dists_only[9984])"
   ]
  },
  {
   "cell_type": "code",
   "execution_count": 48,
   "id": "dd875ac6",
   "metadata": {},
   "outputs": [
    {
     "data": {
      "text/plain": [
       "Text(0.5, 1.0, \"b'horse'\")"
      ]
     },
     "execution_count": 48,
     "metadata": {},
     "output_type": "execute_result"
    },
    {
     "data": {
      "image/png": "[encoded data removed]",
      "text/plain": [
       "<Figure size 432x288 with 1 Axes>"
      ]
     },
     "metadata": {
      "needs_background": "light"
     },
     "output_type": "display_data"
    }
   ],
   "source": [
    "b1_fi = upImgs1[b'data'][2814]\n",
    "b1_fi = b1_fi.reshape(3, 32, 32)\n",
    "b1_fi = b1_fi.transpose(1, 2, 0)\n",
    "b1_fl = upImgs1[b'labels'][2814]\n",
    "plt.imshow(b1_fi)\n",
    "plt.title(meta_data[b'label_names'][b1_fl])"
   ]
  },
  {
   "cell_type": "code",
   "execution_count": 49,
   "id": "480323ec",
   "metadata": {},
   "outputs": [
    {
     "data": {
      "text/plain": [
       "Text(0.5, 1.0, \"b'airplane'\")"
      ]
     },
     "execution_count": 49,
     "metadata": {},
     "output_type": "execute_result"
    },
    {
     "data": {
      "image/png": "[encoded data removed]",
      "text/plain": [
       "<Figure size 432x288 with 1 Axes>"
      ]
     },
     "metadata": {
      "needs_background": "light"
     },
     "output_type": "display_data"
    }
   ],
   "source": [
    "b1_fi = upImgs1[b'data'][9221]\n",
    "b1_fi = b1_fi.reshape(3, 32, 32)\n",
    "b1_fi = b1_fi.transpose(1, 2, 0)\n",
    "b1_fl = upImgs1[b'labels'][9221]\n",
    "plt.imshow(b1_fi)\n",
    "plt.title(meta_data[b'label_names'][b1_fl])"
   ]
  },
  {
   "cell_type": "code",
   "execution_count": 50,
   "id": "f61dc0b0",
   "metadata": {},
   "outputs": [
    {
     "data": {
      "text/plain": [
       "Text(0.5, 1.0, \"b'horse'\")"
      ]
     },
     "execution_count": 50,
     "metadata": {},
     "output_type": "execute_result"
    },
    {
     "data": {
      "image/png": "[encoded data removed]",
      "text/plain": [
       "<Figure size 432x288 with 1 Axes>"
      ]
     },
     "metadata": {
      "needs_background": "light"
     },
     "output_type": "display_data"
    }
   ],
   "source": [
    "b1_fi = upImgs1[b'data'][4688]\n",
    "b1_fi = b1_fi.reshape(3, 32, 32)\n",
    "b1_fi = b1_fi.transpose(1, 2, 0)\n",
    "b1_fl = upImgs1[b'labels'][4688]\n",
    "plt.imshow(b1_fi)\n",
    "plt.title(meta_data[b'label_names'][b1_fl])"
   ]
  },
  {
   "cell_type": "code",
   "execution_count": 51,
   "id": "0dbc09af",
   "metadata": {},
   "outputs": [
    {
     "data": {
      "text/plain": [
       "Text(0.5, 1.0, \"b'airplane'\")"
      ]
     },
     "execution_count": 51,
     "metadata": {},
     "output_type": "execute_result"
    },
    {
     "data": {
      "image/png": "[encoded data removed]",
      "text/plain": [
       "<Figure size 432x288 with 1 Axes>"
      ]
     },
     "metadata": {
      "needs_background": "light"
     },
     "output_type": "display_data"
    }
   ],
   "source": [
    "b1_fi = upImgs1[b'data'][1977]\n",
    "b1_fi = b1_fi.reshape(3, 32, 32)\n",
    "b1_fi = b1_fi.transpose(1, 2, 0)\n",
    "b1_fl = upImgs1[b'labels'][1977]\n",
    "plt.imshow(b1_fi)\n",
    "plt.title(meta_data[b'label_names'][b1_fl])"
   ]
  },
  {
   "cell_type": "code",
   "execution_count": 52,
   "id": "4cef8809",
   "metadata": {},
   "outputs": [
    {
     "data": {
      "text/plain": [
       "Text(0.5, 1.0, \"b'horse'\")"
      ]
     },
     "execution_count": 52,
     "metadata": {},
     "output_type": "execute_result"
    },
    {
     "data": {
      "image/png": "[encoded data removed]",
      "text/plain": [
       "<Figure size 432x288 with 1 Axes>"
      ]
     },
     "metadata": {
      "needs_background": "light"
     },
     "output_type": "display_data"
    }
   ],
   "source": [
    "b1_fi = upImgs1[b'data'][6329]\n",
    "b1_fi = b1_fi.reshape(3, 32, 32)\n",
    "b1_fi = b1_fi.transpose(1, 2, 0)\n",
    "b1_fl = upImgs1[b'labels'][6329]\n",
    "plt.imshow(b1_fi)\n",
    "plt.title(meta_data[b'label_names'][b1_fl])"
   ]
  },
  {
   "cell_type": "code",
   "execution_count": 24,
   "id": "2b0bbd39",
   "metadata": {},
   "outputs": [],
   "source": [
    "FeatureDict = {}\n",
    "for i in range(0, 10000):\n",
    "    FeatureDict[i] = Dists_only[i] "
   ]
  },
  {
   "cell_type": "code",
   "execution_count": null,
   "id": "5dc1b775",
   "metadata": {},
   "outputs": [],
   "source": [
    "FeatureDict"
   ]
  },
  {
   "cell_type": "code",
   "execution_count": 26,
   "id": "49632777",
   "metadata": {},
   "outputs": [],
   "source": [
    "keysList = list(FeatureDict.keys())"
   ]
  },
  {
   "cell_type": "code",
   "execution_count": null,
   "id": "0fcfd70b",
   "metadata": {},
   "outputs": [],
   "source": [
    "keysList"
   ]
  },
  {
   "cell_type": "code",
   "execution_count": 27,
   "id": "55628265",
   "metadata": {},
   "outputs": [],
   "source": [
    "valuesList = list(FeatureDict.values())"
   ]
  },
  {
   "cell_type": "code",
   "execution_count": null,
   "id": "8268a8b5",
   "metadata": {},
   "outputs": [],
   "source": [
    "valuesList"
   ]
  },
  {
   "cell_type": "code",
   "execution_count": 28,
   "id": "6968d612",
   "metadata": {},
   "outputs": [
    {
     "data": {
      "text/plain": [
       "array([1875, 4327, 3587, ..., 5014, 1787, 9984], dtype=int64)"
      ]
     },
     "execution_count": 28,
     "metadata": {},
     "output_type": "execute_result"
    }
   ],
   "source": [
    "sorted_Dists_only"
   ]
  },
  {
   "cell_type": "code",
   "execution_count": 80,
   "id": "4d2a3f50",
   "metadata": {},
   "outputs": [
    {
     "data": {
      "text/plain": [
       "array([[[0.        , 0.        , 0.        , ..., 0.        ,\n",
       "         0.00617675, 0.03793778],\n",
       "        [0.        , 0.        , 0.        , ..., 0.        ,\n",
       "         0.        , 0.        ],\n",
       "        [0.        , 0.        , 0.        , ..., 0.        ,\n",
       "         0.        , 0.01062487]],\n",
       "\n",
       "       [[0.        , 0.        , 0.        , ..., 0.        ,\n",
       "         0.00936317, 0.03793778],\n",
       "        [0.        , 0.        , 0.        , ..., 0.        ,\n",
       "         0.        , 0.        ],\n",
       "        [0.        , 0.        , 0.        , ..., 0.        ,\n",
       "         0.        , 0.01062487]],\n",
       "\n",
       "       [[0.        , 0.        , 0.        , ..., 0.        ,\n",
       "         0.04174161, 0.03793778],\n",
       "        [0.        , 0.        , 0.        , ..., 0.        ,\n",
       "         0.        , 0.        ],\n",
       "        [0.        , 0.        , 0.        , ..., 0.        ,\n",
       "         0.        , 0.01062487]],\n",
       "\n",
       "       ...,\n",
       "\n",
       "       [[0.        , 0.        , 0.        , ..., 0.        ,\n",
       "         0.03755491, 0.03793778],\n",
       "        [0.        , 0.        , 0.        , ..., 0.        ,\n",
       "         0.        , 0.        ],\n",
       "        [0.        , 0.        , 0.        , ..., 0.        ,\n",
       "         0.        , 0.01062487]],\n",
       "\n",
       "       [[0.        , 0.        , 0.        , ..., 0.        ,\n",
       "         0.        , 0.03793778],\n",
       "        [0.        , 0.        , 0.        , ..., 0.        ,\n",
       "         0.        , 0.        ],\n",
       "        [0.        , 0.        , 0.        , ..., 0.        ,\n",
       "         0.        , 0.01062487]],\n",
       "\n",
       "       [[0.        , 0.        , 0.        , ..., 0.        ,\n",
       "         0.01826492, 0.03793778],\n",
       "        [0.        , 0.        , 0.        , ..., 0.        ,\n",
       "         0.        , 0.        ],\n",
       "        [0.        , 0.        , 0.        , ..., 0.        ,\n",
       "         0.        , 0.01062487]]], dtype=float32)"
      ]
     },
     "execution_count": 80,
     "metadata": {},
     "output_type": "execute_result"
    }
   ],
   "source": [
    "Dists_only"
   ]
  },
  {
   "cell_type": "code",
   "execution_count": null,
   "id": "936b5541",
   "metadata": {},
   "outputs": [],
   "source": [
    "[(Dists_only[sorted_Dists_only[i]], valuesList) for i in sorted_Dists_only]"
   ]
  },
  {
   "cell_type": "code",
   "execution_count": 81,
   "id": "1cb91b33",
   "metadata": {},
   "outputs": [
    {
     "name": "stdout",
     "output_type": "stream",
     "text": [
      "[array([[[0.        , 0.        , 0.        , ..., 0.        ,\n",
      "         0.        , 0.02500442],\n",
      "        [0.        , 0.        , 0.        , ..., 0.        ,\n",
      "         0.        , 0.01624876],\n",
      "        [0.        , 0.        , 0.        , ..., 0.        ,\n",
      "         0.00617675, 0.02574723]],\n",
      "\n",
      "       [[0.        , 0.        , 0.        , ..., 0.        ,\n",
      "         0.00783338, 0.02500442],\n",
      "        [0.        , 0.        , 0.        , ..., 0.        ,\n",
      "         0.        , 0.01624876],\n",
      "        [0.        , 0.        , 0.        , ..., 0.        ,\n",
      "         0.00512905, 0.02574723]],\n",
      "\n",
      "       [[0.        , 0.        , 0.        , ..., 0.        ,\n",
      "         0.01789575, 0.02500442],\n",
      "        [0.        , 0.        , 0.        , ..., 0.        ,\n",
      "         0.00106738, 0.01624876],\n",
      "        [0.        , 0.        , 0.        , ..., 0.        ,\n",
      "         0.03769569, 0.02574723]],\n",
      "\n",
      "       ...,\n",
      "\n",
      "       [[0.        , 0.        , 0.        , ..., 0.        ,\n",
      "         0.00636981, 0.02500442],\n",
      "        [0.        , 0.        , 0.        , ..., 0.        ,\n",
      "         0.        , 0.01624876],\n",
      "        [0.        , 0.        , 0.        , ..., 0.        ,\n",
      "         0.03701076, 0.02574723]],\n",
      "\n",
      "       [[0.        , 0.        , 0.        , ..., 0.        ,\n",
      "         0.        , 0.02500442],\n",
      "        [0.        , 0.        , 0.        , ..., 0.        ,\n",
      "         0.        , 0.01624876],\n",
      "        [0.        , 0.        , 0.        , ..., 0.        ,\n",
      "         0.        , 0.02574723]],\n",
      "\n",
      "       [[0.        , 0.        , 0.        , ..., 0.        ,\n",
      "         0.        , 0.02500442],\n",
      "        [0.        , 0.        , 0.        , ..., 0.        ,\n",
      "         0.        , 0.01624876],\n",
      "        [0.        , 0.        , 0.        , ..., 0.        ,\n",
      "         0.01826492, 0.02574723]]], dtype=float32)]\n"
     ]
    }
   ],
   "source": [
    "Dists2 = [np.linalg.norm(features-queryFeatures, axis=1)]\n",
    "print(Dists2)"
   ]
  },
  {
   "cell_type": "code",
   "execution_count": 82,
   "id": "81e89d4c",
   "metadata": {},
   "outputs": [],
   "source": [
    "ids = np.argsort(Dists2)[:10]"
   ]
  },
  {
   "cell_type": "code",
   "execution_count": 83,
   "id": "2bfddfd2",
   "metadata": {},
   "outputs": [
    {
     "ename": "TypeError",
     "evalue": "only integer scalar arrays can be converted to a scalar index",
     "output_type": "error",
     "traceback": [
      "\u001b[1;31m---------------------------------------------------------------------------\u001b[0m",
      "\u001b[1;31mTypeError\u001b[0m                                 Traceback (most recent call last)",
      "Input \u001b[1;32mIn [83]\u001b[0m, in \u001b[0;36m<cell line: 1>\u001b[1;34m()\u001b[0m\n\u001b[1;32m----> 1\u001b[0m \u001b[43mDists2\u001b[49m\u001b[43m[\u001b[49m\u001b[43mids\u001b[49m\u001b[43m[\u001b[49m\u001b[38;5;241;43m0\u001b[39;49m\u001b[43m]\u001b[49m\u001b[43m]\u001b[49m\n",
      "\u001b[1;31mTypeError\u001b[0m: only integer scalar arrays can be converted to a scalar index"
     ]
    }
   ],
   "source": [
    "Dists2[ids[0]]"
   ]
  },
  {
   "cell_type": "code",
   "execution_count": 84,
   "id": "f6e35f99",
   "metadata": {},
   "outputs": [
    {
     "ename": "TypeError",
     "evalue": "only integer scalar arrays can be converted to a scalar index",
     "output_type": "error",
     "traceback": [
      "\u001b[1;31m---------------------------------------------------------------------------\u001b[0m",
      "\u001b[1;31mTypeError\u001b[0m                                 Traceback (most recent call last)",
      "Input \u001b[1;32mIn [84]\u001b[0m, in \u001b[0;36m<cell line: 1>\u001b[1;34m()\u001b[0m\n\u001b[0;32m      1\u001b[0m \u001b[38;5;28;01mfor\u001b[39;00m i \u001b[38;5;129;01min\u001b[39;00m ids:\n\u001b[1;32m----> 2\u001b[0m     \u001b[38;5;28mprint\u001b[39m(\u001b[43mDists2\u001b[49m\u001b[43m[\u001b[49m\u001b[43mi\u001b[49m\u001b[43m]\u001b[49m)\n",
      "\u001b[1;31mTypeError\u001b[0m: only integer scalar arrays can be converted to a scalar index"
     ]
    }
   ],
   "source": [
    "for i in ids:\n",
    "    print(Dists2[i])"
   ]
  },
  {
   "cell_type": "code",
   "execution_count": 26,
   "id": "4890bdc5",
   "metadata": {},
   "outputs": [
    {
     "data": {
      "text/plain": [
       "9999"
      ]
     },
     "execution_count": 26,
     "metadata": {},
     "output_type": "execute_result"
    }
   ],
   "source": [
    "FeatureDict[str(Dists_only[9999])]"
   ]
  },
  {
   "cell_type": "code",
   "execution_count": null,
   "id": "8cce2a2c",
   "metadata": {},
   "outputs": [],
   "source": [
    "Dists_only[sorted_Dists_only[0]]"
   ]
  },
  {
   "cell_type": "code",
   "execution_count": 44,
   "id": "a7781855",
   "metadata": {},
   "outputs": [
    {
     "ename": "TypeError",
     "evalue": "only integer scalar arrays can be converted to a scalar index",
     "output_type": "error",
     "traceback": [
      "\u001b[1;31m---------------------------------------------------------------------------\u001b[0m",
      "\u001b[1;31mTypeError\u001b[0m                                 Traceback (most recent call last)",
      "Input \u001b[1;32mIn [44]\u001b[0m, in \u001b[0;36m<cell line: 1>\u001b[1;34m()\u001b[0m\n\u001b[1;32m----> 1\u001b[0m \u001b[43mvaluesList\u001b[49m\u001b[43m[\u001b[49m\u001b[43mDists_only\u001b[49m\u001b[43m[\u001b[49m\u001b[43msorted_Dists_only\u001b[49m\u001b[43m[\u001b[49m\u001b[38;5;241;43m0\u001b[39;49m\u001b[43m]\u001b[49m\u001b[43m]\u001b[49m\u001b[43m]\u001b[49m\n",
      "\u001b[1;31mTypeError\u001b[0m: only integer scalar arrays can be converted to a scalar index"
     ]
    }
   ],
   "source": [
    "valuesList[Dists_only[sorted_Dists_only[0]]]"
   ]
  },
  {
   "cell_type": "code",
   "execution_count": 42,
   "id": "68c1cfff",
   "metadata": {},
   "outputs": [
    {
     "ename": "TypeError",
     "evalue": "only integer scalar arrays can be converted to a scalar index",
     "output_type": "error",
     "traceback": [
      "\u001b[1;31m---------------------------------------------------------------------------\u001b[0m",
      "\u001b[1;31mTypeError\u001b[0m                                 Traceback (most recent call last)",
      "Input \u001b[1;32mIn [42]\u001b[0m, in \u001b[0;36m<cell line: 1>\u001b[1;34m()\u001b[0m\n\u001b[1;32m----> 1\u001b[0m scores \u001b[38;5;241m=\u001b[39m [(Dists_only[i], valuesList[Dists_only[i]]) \u001b[38;5;28;01mfor\u001b[39;00m i \u001b[38;5;129;01min\u001b[39;00m sorted_Dists_only]\n\u001b[0;32m      2\u001b[0m \u001b[38;5;28mprint\u001b[39m(scores)\n",
      "Input \u001b[1;32mIn [42]\u001b[0m, in \u001b[0;36m<listcomp>\u001b[1;34m(.0)\u001b[0m\n\u001b[1;32m----> 1\u001b[0m scores \u001b[38;5;241m=\u001b[39m [(Dists_only[i], \u001b[43mvaluesList\u001b[49m\u001b[43m[\u001b[49m\u001b[43mDists_only\u001b[49m\u001b[43m[\u001b[49m\u001b[43mi\u001b[49m\u001b[43m]\u001b[49m\u001b[43m]\u001b[49m) \u001b[38;5;28;01mfor\u001b[39;00m i \u001b[38;5;129;01min\u001b[39;00m sorted_Dists_only]\n\u001b[0;32m      2\u001b[0m \u001b[38;5;28mprint\u001b[39m(scores)\n",
      "\u001b[1;31mTypeError\u001b[0m: only integer scalar arrays can be converted to a scalar index"
     ]
    }
   ],
   "source": [
    "scores = [(Dists_only[i], valuesList[Dists_only[i]]) for i in sorted_Dists_only]\n",
    "print(scores)"
   ]
  },
  {
   "cell_type": "code",
   "execution_count": 78,
   "id": "354c7ffa",
   "metadata": {},
   "outputs": [
    {
     "data": {
      "text/plain": [
       "(10000, 3, 512)"
      ]
     },
     "execution_count": 78,
     "metadata": {},
     "output_type": "execute_result"
    }
   ],
   "source": [
    "Dists_only.shape"
   ]
  },
  {
   "cell_type": "code",
   "execution_count": 79,
   "id": "fb2158f6",
   "metadata": {},
   "outputs": [
    {
     "data": {
      "text/plain": [
       "(10000, 3, 512)"
      ]
     },
     "execution_count": 79,
     "metadata": {},
     "output_type": "execute_result"
    }
   ],
   "source": [
    "sorted_Dists_only.shape"
   ]
  },
  {
   "cell_type": "code",
   "execution_count": 82,
   "id": "20fe2a58",
   "metadata": {},
   "outputs": [
    {
     "data": {
      "text/plain": [
       "(3, 512, 3, 512)"
      ]
     },
     "execution_count": 82,
     "metadata": {},
     "output_type": "execute_result"
    }
   ],
   "source": [
    "Dists_only[sorted_Dists_only[0]].shape"
   ]
  },
  {
   "cell_type": "code",
   "execution_count": null,
   "id": "c8a77550",
   "metadata": {},
   "outputs": [],
   "source": [
    "FeatureDict[str(Dists_only[sorted_Dists_only[0]])]"
   ]
  },
  {
   "cell_type": "code",
   "execution_count": 51,
   "id": "81b030f7",
   "metadata": {},
   "outputs": [
    {
     "data": {
      "text/plain": [
       "(10000, 3, 512)"
      ]
     },
     "execution_count": 51,
     "metadata": {},
     "output_type": "execute_result"
    }
   ],
   "source": [
    "Dists_only.shape"
   ]
  },
  {
   "cell_type": "code",
   "execution_count": 52,
   "id": "268e3cb2",
   "metadata": {},
   "outputs": [
    {
     "data": {
      "text/plain": [
       "(10000, 3, 512)"
      ]
     },
     "execution_count": 52,
     "metadata": {},
     "output_type": "execute_result"
    }
   ],
   "source": [
    "sorted_Dists_only.shape"
   ]
  },
  {
   "cell_type": "code",
   "execution_count": 32,
   "id": "6a0705cc",
   "metadata": {},
   "outputs": [],
   "source": [
    "top8_sorted_DistIndex = sorted_DistIndex[:8]"
   ]
  },
  {
   "cell_type": "code",
   "execution_count": 44,
   "id": "40baa964",
   "metadata": {},
   "outputs": [
    {
     "name": "stdout",
     "output_type": "stream",
     "text": [
      "[[0 275 273 ... 259 177 30]\n",
      " [0 329 327 ... 177 53 30]\n",
      " [0 510 426 ... 344 76 53]]\n",
      "[[0 286 284 ... 53 177 30]\n",
      " [0 330 329 ... 177 30 53]\n",
      " [0 426 258 ... 259 76 53]]\n",
      "[[0 277 276 ... 455 177 30]\n",
      " [0 331 330 ... 177 30 53]\n",
      " [0 262 261 ... 259 76 53]]\n",
      "[[0 273 272 ... 379 177 30]\n",
      " [0 327 326 ... 379 177 30]\n",
      " [0 258 421 ... 259 76 53]]\n",
      "[[0 272 465 ... 57 177 30]\n",
      " [0 333 332 ... 53 30 506]\n",
      " [0 419 421 ... 53 506 259]]\n",
      "[[0 280 279 ... 282 177 30]\n",
      " [0 332 331 ... 177 282 30]\n",
      " [0 260 422 ... 259 76 53]]\n",
      "[[0 283 466 ... 259 177 30]\n",
      " [0 330 329 ... 53 177 30]\n",
      " [0 421 257 ... 53 58 76]]\n",
      "[[0 284 283 ... 379 177 30]\n",
      " [0 332 331 ... 177 53 30]\n",
      " [0 258 424 ... 259 76 53]]\n"
     ]
    }
   ],
   "source": [
    "for i in range(0, 8):\n",
    "    print(top8_sorted_DistIndex[i,:,:,1])"
   ]
  },
  {
   "cell_type": "code",
   "execution_count": 28,
   "id": "56070f2e",
   "metadata": {},
   "outputs": [
    {
     "data": {
      "text/plain": [
       "(8, 3, 512, 2)"
      ]
     },
     "execution_count": 28,
     "metadata": {},
     "output_type": "execute_result"
    }
   ],
   "source": [
    "top8_sorted_DistIndex.shape"
   ]
  },
  {
   "cell_type": "code",
   "execution_count": 29,
   "id": "9eb2b376",
   "metadata": {},
   "outputs": [
    {
     "data": {
      "text/plain": [
       "(3, 512, 2)"
      ]
     },
     "execution_count": 29,
     "metadata": {},
     "output_type": "execute_result"
    }
   ],
   "source": [
    "top8_sorted_DistIndex[0].shape"
   ]
  },
  {
   "cell_type": "code",
   "execution_count": null,
   "id": "67dc68d5",
   "metadata": {},
   "outputs": [],
   "source": [
    "top8_sorted_DistIndex[0][0]"
   ]
  },
  {
   "cell_type": "code",
   "execution_count": null,
   "id": "3ab139f6",
   "metadata": {},
   "outputs": [],
   "source": [
    "top8_sorted_DistIndex[0][2]"
   ]
  },
  {
   "cell_type": "code",
   "execution_count": null,
   "id": "9b069882",
   "metadata": {},
   "outputs": [],
   "source": [
    "Dist = [np.linalg.norm(features[i]-queryFeatures, axis=1) for i in range(0, 10000)] #list of float\n",
    "Dist"
   ]
  },
  {
   "cell_type": "code",
   "execution_count": 36,
   "id": "120ea0f2",
   "metadata": {},
   "outputs": [
    {
     "data": {
      "text/plain": [
       "(10000, 3, 512)"
      ]
     },
     "execution_count": 36,
     "metadata": {},
     "output_type": "execute_result"
    }
   ],
   "source": [
    "np.array(Dist).shape"
   ]
  },
  {
   "cell_type": "code",
   "execution_count": 11,
   "id": "4b35c50c",
   "metadata": {},
   "outputs": [],
   "source": [
    "Dist = np.array(Dist)\n",
    "ids = np.argsort(Dist)[:8]\n",
    "scr = [Dist[it] for it in ids]"
   ]
  },
  {
   "cell_type": "code",
   "execution_count": 22,
   "id": "e11a5e2d",
   "metadata": {},
   "outputs": [
    {
     "data": {
      "text/plain": [
       "(10000, 3, 512)"
      ]
     },
     "execution_count": 22,
     "metadata": {},
     "output_type": "execute_result"
    }
   ],
   "source": [
    "Dist.shape"
   ]
  },
  {
   "cell_type": "code",
   "execution_count": 26,
   "id": "585ddf10",
   "metadata": {},
   "outputs": [],
   "source": [
    "Dist1 = [np.linalg.norm(features[i]-queryFeatures, axis=1) for i in range(0, 10000)]"
   ]
  },
  {
   "cell_type": "code",
   "execution_count": 28,
   "id": "f4ed6416",
   "metadata": {},
   "outputs": [
    {
     "ename": "ValueError",
     "evalue": "The truth value of an array with more than one element is ambiguous. Use a.any() or a.all()",
     "output_type": "error",
     "traceback": [
      "\u001b[1;31m---------------------------------------------------------------------------\u001b[0m",
      "\u001b[1;31mValueError\u001b[0m                                Traceback (most recent call last)",
      "Input \u001b[1;32mIn [28]\u001b[0m, in \u001b[0;36m<cell line: 1>\u001b[1;34m()\u001b[0m\n\u001b[1;32m----> 1\u001b[0m \u001b[38;5;28;01mif\u001b[39;00m \u001b[43mscr\u001b[49m\u001b[43m[\u001b[49m\u001b[38;5;241;43m0\u001b[39;49m\u001b[43m]\u001b[49m\u001b[43m[\u001b[49m\u001b[38;5;241;43m0\u001b[39;49m\u001b[43m]\u001b[49m\u001b[43m[\u001b[49m\u001b[38;5;241;43m0\u001b[39;49m\u001b[43m]\u001b[49m\u001b[43m \u001b[49m\u001b[38;5;129;43;01min\u001b[39;49;00m\u001b[43m \u001b[49m\u001b[43mDist1\u001b[49m:\n\u001b[0;32m      2\u001b[0m     \u001b[38;5;28mprint\u001b[39m(\u001b[38;5;124m'\u001b[39m\u001b[38;5;124mT\u001b[39m\u001b[38;5;124m'\u001b[39m)\n",
      "\u001b[1;31mValueError\u001b[0m: The truth value of an array with more than one element is ambiguous. Use a.any() or a.all()"
     ]
    }
   ],
   "source": [
    "if scr[0][0][0] in Dist1:\n",
    "    print('T')"
   ]
  },
  {
   "cell_type": "code",
   "execution_count": 43,
   "id": "c542f02c",
   "metadata": {},
   "outputs": [
    {
     "data": {
      "text/plain": [
       "(3, 512)"
      ]
     },
     "execution_count": 43,
     "metadata": {},
     "output_type": "execute_result"
    }
   ],
   "source": [
    "scr1 = Dist[ids[0]]\n",
    "scr1[:,:,0,0].shape"
   ]
  },
  {
   "cell_type": "code",
   "execution_count": 20,
   "id": "5bd920d4",
   "metadata": {},
   "outputs": [
    {
     "name": "stderr",
     "output_type": "stream",
     "text": [
      "C:\\Users\\Tejas\\AppData\\Local\\Temp\\ipykernel_24484\\3119239039.py:1: DeprecationWarning: elementwise comparison failed; this will raise an error in the future.\n",
      "  f = features[np.where(features==scr[0])]\n"
     ]
    },
    {
     "ename": "TypeError",
     "evalue": "list indices must be integers or slices, not tuple",
     "output_type": "error",
     "traceback": [
      "\u001b[1;31m---------------------------------------------------------------------------\u001b[0m",
      "\u001b[1;31mTypeError\u001b[0m                                 Traceback (most recent call last)",
      "Input \u001b[1;32mIn [20]\u001b[0m, in \u001b[0;36m<cell line: 1>\u001b[1;34m()\u001b[0m\n\u001b[1;32m----> 1\u001b[0m f \u001b[38;5;241m=\u001b[39m \u001b[43mfeatures\u001b[49m\u001b[43m[\u001b[49m\u001b[43mnp\u001b[49m\u001b[38;5;241;43m.\u001b[39;49m\u001b[43mwhere\u001b[49m\u001b[43m(\u001b[49m\u001b[43mfeatures\u001b[49m\u001b[38;5;241;43m==\u001b[39;49m\u001b[43mscr\u001b[49m\u001b[43m[\u001b[49m\u001b[38;5;241;43m0\u001b[39;49m\u001b[43m]\u001b[49m\u001b[43m)\u001b[49m\u001b[43m]\u001b[49m\n\u001b[0;32m      2\u001b[0m \u001b[38;5;28mprint\u001b[39m(f\u001b[38;5;241m.\u001b[39mshape, Dist\u001b[38;5;241m.\u001b[39mshape)\n",
      "\u001b[1;31mTypeError\u001b[0m: list indices must be integers or slices, not tuple"
     ]
    }
   ],
   "source": [
    "f = features[np.where(features==scr[0])]\n",
    "print(f.shape, Dist.shape)"
   ]
  },
  {
   "cell_type": "code",
   "execution_count": 21,
   "id": "20d06be4",
   "metadata": {},
   "outputs": [
    {
     "name": "stdout",
     "output_type": "stream",
     "text": [
      "(array([   0,    0,    0, ..., 9999, 9999, 9999], dtype=int64), array([0, 0, 0, ..., 2, 2, 2], dtype=int64), array([0, 0, 0, ..., 2, 2, 2], dtype=int64), array([  0,   1,   2, ..., 508, 509, 510], dtype=int64))\n"
     ]
    }
   ],
   "source": [
    "print(np.where(features==Dist[0]))"
   ]
  },
  {
   "cell_type": "code",
   "execution_count": 44,
   "id": "390e299e",
   "metadata": {},
   "outputs": [],
   "source": [
    "for i in range(0, 10000):\n",
    "    cmp = (Dist[i] == scr1[:,:,0,0])\n",
    "    if (cmp.all()):\n",
    "        print(i)"
   ]
  },
  {
   "cell_type": "code",
   "execution_count": 37,
   "id": "9847a6f6",
   "metadata": {},
   "outputs": [
    {
     "data": {
      "text/plain": [
       "(3, 512)"
      ]
     },
     "execution_count": 37,
     "metadata": {},
     "output_type": "execute_result"
    }
   ],
   "source": [
    "Dist[0].shape"
   ]
  },
  {
   "cell_type": "code",
   "execution_count": 38,
   "id": "af024b04",
   "metadata": {},
   "outputs": [
    {
     "data": {
      "text/plain": [
       "(3, 512)"
      ]
     },
     "execution_count": 38,
     "metadata": {},
     "output_type": "execute_result"
    }
   ],
   "source": [
    "scr[0][:,:,0,0].shape"
   ]
  },
  {
   "cell_type": "code",
   "execution_count": 34,
   "id": "60d0a1cb",
   "metadata": {},
   "outputs": [
    {
     "data": {
      "text/plain": [
       "array([[ True,  True,  True, ...,  True, False, False],\n",
       "       [ True,  True,  True, ...,  True,  True,  True],\n",
       "       [ True,  True,  True, ...,  True,  True, False]])"
      ]
     },
     "execution_count": 34,
     "metadata": {},
     "output_type": "execute_result"
    }
   ],
   "source": [
    "scr[0][:,:,0,0] == Dist[0]"
   ]
  },
  {
   "cell_type": "code",
   "execution_count": 27,
   "id": "49e23b46",
   "metadata": {},
   "outputs": [
    {
     "data": {
      "text/plain": [
       "(3, 3, 512, 512)"
      ]
     },
     "execution_count": 27,
     "metadata": {},
     "output_type": "execute_result"
    }
   ],
   "source": [
    "scr[0].transpose(0, 2, 1, 3).shape"
   ]
  },
  {
   "cell_type": "code",
   "execution_count": 19,
   "id": "ad78e04a",
   "metadata": {},
   "outputs": [],
   "source": [
    "a = np.array([[1,2.2,3,4], [5,6,7.3,8]])\n",
    "b = np.array([[5,6.7,7,8], [10,11.6,12,13]])\n",
    "for i in range(0, 2):\n",
    "    c = (a[i] == b[0])\n",
    "    if (c.all()):\n",
    "        print(a.shape, b.shape, c.all())"
   ]
  },
  {
   "cell_type": "code",
   "execution_count": 21,
   "id": "8910b292",
   "metadata": {},
   "outputs": [
    {
     "data": {
      "text/plain": [
       "dtype('bool')"
      ]
     },
     "execution_count": 21,
     "metadata": {},
     "output_type": "execute_result"
    }
   ],
   "source": [
    "c.dtype"
   ]
  },
  {
   "cell_type": "code",
   "execution_count": 30,
   "id": "9d95c37e",
   "metadata": {},
   "outputs": [
    {
     "data": {
      "text/plain": [
       "array([1. , 2.2, 3. , 4. ])"
      ]
     },
     "execution_count": 30,
     "metadata": {},
     "output_type": "execute_result"
    }
   ],
   "source": [
    "a[0]"
   ]
  },
  {
   "cell_type": "code",
   "execution_count": 40,
   "id": "5ce8ed24",
   "metadata": {},
   "outputs": [
    {
     "data": {
      "text/plain": [
       "Text(0.5, 1.0, \"b'truck'\")"
      ]
     },
     "execution_count": 40,
     "metadata": {},
     "output_type": "execute_result"
    },
    {
     "data": {
      "image/png": "[encoded data removed]",
      "text/plain": [
       "<Figure size 432x288 with 1 Axes>"
      ]
     },
     "metadata": {
      "needs_background": "light"
     },
     "output_type": "display_data"
    }
   ],
   "source": [
    "b1_fi = upImgs1[b'data'][273]\n",
    "b1_fi = b1_fi.reshape(3, 32, 32)\n",
    "b1_fi = b1_fi.transpose(1, 2, 0)\n",
    "b1_fl = upImgs1[b'labels'][273]\n",
    "plt.imshow(b1_fi)\n",
    "plt.title(meta_data[b'label_names'][b1_fl])"
   ]
  },
  {
   "cell_type": "code",
   "execution_count": null,
   "id": "ad8e8174",
   "metadata": {},
   "outputs": [],
   "source": []
  }
 ],
 "metadata": {
  "kernelspec": {
   "display_name": "Python 3 (ipykernel)",
   "language": "python",
   "name": "python3"
  },
  "language_info": {
   "codemirror_mode": {
    "name": "ipython",
    "version": 3
   },
   "file_extension": ".py",
   "mimetype": "text/x-python",
   "name": "python",
   "nbconvert_exporter": "python",
   "pygments_lexer": "ipython3",
   "version": "3.9.12"
  }
 },
 "nbformat": 4,
 "nbformat_minor": 5
}
